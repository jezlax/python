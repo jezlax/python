{
 "cells": [
  {
   "cell_type": "code",
   "execution_count": 747,
   "metadata": {
    "collapsed": false
   },
   "outputs": [],
   "source": [
    "import pandas as pd\n",
    "import numpy as np\n",
    "import os\n",
    "import itertools as it\n",
    "from sklearn.ensemble import RandomForestClassifier\n",
    "from sklearn.linear_model import LinearRegression\n",
    "from sklearn.preprocessing import LabelEncoder\n",
    "from sklearn.grid_search import GridSearchCV\n",
    "from sklearn.metrics import mean_squared_error, accuracy_score, log_loss\n",
    "from time import time\n",
    "\n",
    "\n",
    "%matplotlib inline\n",
    "import seaborn as sns\n",
    "import matplotlib.pyplot as plt\n",
    "from IPython.display import Image\n",
    "from sklearn.tree import export_graphviz"
   ]
  },
  {
   "cell_type": "code",
   "execution_count": 748,
   "metadata": {
    "collapsed": true
   },
   "outputs": [],
   "source": [
    "#import all the files we need\n",
    "reg_season_compact = pd.read_csv(\"RegularSeasonCompactResults.csv\")\n",
    "reg_season = pd.read_csv(\"RegularSeasonDetailedResults.csv\")\n",
    "seasons = pd.read_csv(\"Seasons.csv\")\n",
    "teams = pd.read_csv(\"Teams.csv\")\n",
    "tourney_results_compact = pd.read_csv(\"TourneyCompactResults.csv\")\n",
    "tourney_results = pd.read_csv(\"TourneyDetailedResults.csv\")\n",
    "seeds = pd.read_csv(\"TourneySeeds.csv\")\n",
    "slots = pd.read_csv(\"TourneySlots.csv\")"
   ]
  },
  {
   "cell_type": "code",
   "execution_count": 823,
   "metadata": {
    "collapsed": false
   },
   "outputs": [
    {
     "data": {
      "text/html": [
       "<div>\n",
       "<table border=\"1\" class=\"dataframe\">\n",
       "  <thead>\n",
       "    <tr style=\"text-align: right;\">\n",
       "      <th></th>\n",
       "      <th>Season</th>\n",
       "      <th>Daynum</th>\n",
       "      <th>Wteam</th>\n",
       "      <th>Wscore</th>\n",
       "      <th>Lteam</th>\n",
       "      <th>Lscore</th>\n",
       "      <th>Wloc</th>\n",
       "      <th>Numot</th>\n",
       "      <th>Wfgm</th>\n",
       "      <th>Wfga</th>\n",
       "      <th>...</th>\n",
       "      <th>Lfga3</th>\n",
       "      <th>Lftm</th>\n",
       "      <th>Lfta</th>\n",
       "      <th>Lor</th>\n",
       "      <th>Ldr</th>\n",
       "      <th>Last</th>\n",
       "      <th>Lto</th>\n",
       "      <th>Lstl</th>\n",
       "      <th>Lblk</th>\n",
       "      <th>Lpf</th>\n",
       "    </tr>\n",
       "  </thead>\n",
       "  <tbody>\n",
       "    <tr>\n",
       "      <th>76631</th>\n",
       "      <td>2017</td>\n",
       "      <td>132</td>\n",
       "      <td>1276</td>\n",
       "      <td>71</td>\n",
       "      <td>1458</td>\n",
       "      <td>56</td>\n",
       "      <td>N</td>\n",
       "      <td>0</td>\n",
       "      <td>27</td>\n",
       "      <td>48</td>\n",
       "      <td>...</td>\n",
       "      <td>15</td>\n",
       "      <td>6</td>\n",
       "      <td>8</td>\n",
       "      <td>14</td>\n",
       "      <td>18</td>\n",
       "      <td>10</td>\n",
       "      <td>15</td>\n",
       "      <td>4</td>\n",
       "      <td>3</td>\n",
       "      <td>13</td>\n",
       "    </tr>\n",
       "    <tr>\n",
       "      <th>76632</th>\n",
       "      <td>2017</td>\n",
       "      <td>132</td>\n",
       "      <td>1343</td>\n",
       "      <td>71</td>\n",
       "      <td>1463</td>\n",
       "      <td>59</td>\n",
       "      <td>N</td>\n",
       "      <td>0</td>\n",
       "      <td>25</td>\n",
       "      <td>52</td>\n",
       "      <td>...</td>\n",
       "      <td>20</td>\n",
       "      <td>13</td>\n",
       "      <td>19</td>\n",
       "      <td>14</td>\n",
       "      <td>20</td>\n",
       "      <td>12</td>\n",
       "      <td>7</td>\n",
       "      <td>4</td>\n",
       "      <td>5</td>\n",
       "      <td>13</td>\n",
       "    </tr>\n",
       "    <tr>\n",
       "      <th>76633</th>\n",
       "      <td>2017</td>\n",
       "      <td>132</td>\n",
       "      <td>1348</td>\n",
       "      <td>70</td>\n",
       "      <td>1433</td>\n",
       "      <td>63</td>\n",
       "      <td>N</td>\n",
       "      <td>0</td>\n",
       "      <td>24</td>\n",
       "      <td>54</td>\n",
       "      <td>...</td>\n",
       "      <td>14</td>\n",
       "      <td>17</td>\n",
       "      <td>22</td>\n",
       "      <td>23</td>\n",
       "      <td>24</td>\n",
       "      <td>8</td>\n",
       "      <td>5</td>\n",
       "      <td>4</td>\n",
       "      <td>1</td>\n",
       "      <td>16</td>\n",
       "    </tr>\n",
       "    <tr>\n",
       "      <th>76634</th>\n",
       "      <td>2017</td>\n",
       "      <td>132</td>\n",
       "      <td>1374</td>\n",
       "      <td>71</td>\n",
       "      <td>1153</td>\n",
       "      <td>56</td>\n",
       "      <td>N</td>\n",
       "      <td>0</td>\n",
       "      <td>26</td>\n",
       "      <td>52</td>\n",
       "      <td>...</td>\n",
       "      <td>24</td>\n",
       "      <td>14</td>\n",
       "      <td>18</td>\n",
       "      <td>17</td>\n",
       "      <td>22</td>\n",
       "      <td>7</td>\n",
       "      <td>7</td>\n",
       "      <td>7</td>\n",
       "      <td>1</td>\n",
       "      <td>13</td>\n",
       "    </tr>\n",
       "    <tr>\n",
       "      <th>76635</th>\n",
       "      <td>2017</td>\n",
       "      <td>132</td>\n",
       "      <td>1407</td>\n",
       "      <td>59</td>\n",
       "      <td>1402</td>\n",
       "      <td>53</td>\n",
       "      <td>N</td>\n",
       "      <td>0</td>\n",
       "      <td>21</td>\n",
       "      <td>60</td>\n",
       "      <td>...</td>\n",
       "      <td>17</td>\n",
       "      <td>7</td>\n",
       "      <td>8</td>\n",
       "      <td>9</td>\n",
       "      <td>27</td>\n",
       "      <td>10</td>\n",
       "      <td>17</td>\n",
       "      <td>1</td>\n",
       "      <td>7</td>\n",
       "      <td>18</td>\n",
       "    </tr>\n",
       "  </tbody>\n",
       "</table>\n",
       "<p>5 rows × 34 columns</p>\n",
       "</div>"
      ],
      "text/plain": [
       "       Season  Daynum  Wteam  Wscore  Lteam  Lscore Wloc  Numot  Wfgm  Wfga  \\\n",
       "76631    2017     132   1276      71   1458      56    N      0    27    48   \n",
       "76632    2017     132   1343      71   1463      59    N      0    25    52   \n",
       "76633    2017     132   1348      70   1433      63    N      0    24    54   \n",
       "76634    2017     132   1374      71   1153      56    N      0    26    52   \n",
       "76635    2017     132   1407      59   1402      53    N      0    21    60   \n",
       "\n",
       "      ...   Lfga3  Lftm  Lfta  Lor  Ldr  Last  Lto  Lstl  Lblk  Lpf  \n",
       "76631 ...      15     6     8   14   18    10   15     4     3   13  \n",
       "76632 ...      20    13    19   14   20    12    7     4     5   13  \n",
       "76633 ...      14    17    22   23   24     8    5     4     1   16  \n",
       "76634 ...      24    14    18   17   22     7    7     7     1   13  \n",
       "76635 ...      17     7     8    9   27    10   17     1     7   18  \n",
       "\n",
       "[5 rows x 34 columns]"
      ]
     },
     "execution_count": 823,
     "metadata": {},
     "output_type": "execute_result"
    }
   ],
   "source": [
    "reg_season.tail()"
   ]
  },
  {
   "cell_type": "code",
   "execution_count": 749,
   "metadata": {
    "collapsed": false
   },
   "outputs": [],
   "source": [
    "#combine regular season and tourney result files\n",
    "all_games = pd.concat([reg_season,tourney_results])"
   ]
  },
  {
   "cell_type": "code",
   "execution_count": 750,
   "metadata": {
    "collapsed": true
   },
   "outputs": [],
   "source": [
    "#setup elo data\n",
    "mean_elo = 1500\n",
    "elo_width = 400\n",
    "k_factor = 64"
   ]
  },
  {
   "cell_type": "code",
   "execution_count": 751,
   "metadata": {
    "collapsed": false
   },
   "outputs": [],
   "source": [
    "#elo\n",
    "df_concat = pd.concat((reg_season_compact, tourney_results_compact), ignore_index=True)\n",
    "df_concat.drop(labels=[ 'Wscore', 'Lscore', 'Wloc', 'Numot'], inplace=True, axis=1)\n",
    "df_concat.sort_values(by=['Season', 'Daynum'], inplace=True)"
   ]
  },
  {
   "cell_type": "code",
   "execution_count": 752,
   "metadata": {
    "collapsed": false
   },
   "outputs": [],
   "source": [
    "#label enocde the teams\n",
    "le = LabelEncoder()\n",
    "df_concat.Wteam = le.fit_transform(df_concat.Wteam)\n",
    "df_concat.Lteam = le.fit_transform(df_concat.Lteam)"
   ]
  },
  {
   "cell_type": "code",
   "execution_count": 753,
   "metadata": {
    "collapsed": true
   },
   "outputs": [],
   "source": [
    "#setup functions\n",
    "def update_elo(winner_elo, loser_elo):\n",
    "    \"\"\"\n",
    "    https://en.wikipedia.org/wiki/Elo_rating_system#Mathematical_details\n",
    "    \"\"\"\n",
    "    expected_win = expected_result(winner_elo, loser_elo)\n",
    "    change_in_elo = k_factor * (1-expected_win)\n",
    "    winner_elo += change_in_elo\n",
    "    loser_elo -= change_in_elo\n",
    "    return winner_elo, loser_elo\n",
    "\n",
    "def expected_result(elo_a, elo_b):\n",
    "    \"\"\"\n",
    "    https://en.wikipedia.org/wiki/Elo_rating_system#Mathematical_details\n",
    "    \"\"\"\n",
    "    expect_a = 1.0/(1+10**((elo_b - elo_a)/elo_width))\n",
    "    return expect_a\n",
    "\n",
    "def update_end_of_season(elos):\n",
    "    \"\"\"Regression towards the mean\n",
    "    \n",
    "    Following 538 nfl methods\n",
    "    https://fivethirtyeight.com/datalab/nfl-elo-ratings-are-back/\n",
    "    \"\"\"\n",
    "    diff_from_mean = elos - mean_elo\n",
    "    elos -= diff_from_mean/3\n",
    "    return elos"
   ]
  },
  {
   "cell_type": "code",
   "execution_count": 754,
   "metadata": {
    "collapsed": false
   },
   "outputs": [],
   "source": [
    "df_concat['w_elo_before_game'] = 0\n",
    "df_concat['w_elo_after_game'] = 0\n",
    "df_concat['l_elo_before_game'] = 0\n",
    "df_concat['l_elo_after_game'] = 0\n",
    "elo_per_season = {}\n",
    "n_teams = len(le.classes_)\n",
    "current_elos = np.ones(shape=(n_teams)) * mean_elo"
   ]
  },
  {
   "cell_type": "code",
   "execution_count": 755,
   "metadata": {
    "collapsed": true
   },
   "outputs": [],
   "source": [
    "df_concat['w_elo_before_game'] = 0\n",
    "df_concat['w_elo_after_game'] = 0\n",
    "df_concat['l_elo_before_game'] = 0\n",
    "df_concat['l_elo_after_game'] = 0\n",
    "elo_per_season = {}\n",
    "n_teams = len(le.classes_)\n",
    "current_elos = np.ones(shape=(n_teams)) * mean_elo"
   ]
  },
  {
   "cell_type": "code",
   "execution_count": 756,
   "metadata": {
    "collapsed": true
   },
   "outputs": [],
   "source": [
    "#setup an epoch date field\n",
    "df_concat['total_days'] = (df_concat.Season-1970)*365.25 + df_concat.Daynum"
   ]
  },
  {
   "cell_type": "code",
   "execution_count": 757,
   "metadata": {
    "collapsed": true
   },
   "outputs": [],
   "source": [
    "df_team_elos = pd.DataFrame(index=df_concat.total_days.unique(), \n",
    "                            columns=range(n_teams))\n",
    "df_team_elos.iloc[0, :] = current_elos"
   ]
  },
  {
   "cell_type": "code",
   "execution_count": 758,
   "metadata": {
    "collapsed": true
   },
   "outputs": [],
   "source": [
    "#fire the photon cannons\n",
    "current_season = df_concat.at[0, 'Season']\n",
    "for row in df_concat.itertuples():\n",
    "    if row.Season != current_season:\n",
    "        # Check if we are starting a new season. \n",
    "        # Regress all ratings towards the mean\n",
    "        current_elos = update_end_of_season(current_elos)\n",
    "        # Write the beginning of new season ratings to a dict for later lookups.\n",
    "        elo_per_season[row.Season] = current_elos.copy()\n",
    "        current_season = row.Season\n",
    "    idx = row.Index\n",
    "    w_id = row.Wteam\n",
    "    l_id = row.Lteam\n",
    "    # Get current elos\n",
    "    w_elo_before = current_elos[w_id]\n",
    "    l_elo_before = current_elos[l_id]\n",
    "    # Update on game results\n",
    "    w_elo_after, l_elo_after = update_elo(w_elo_before, l_elo_before)\n",
    "        \n",
    "    # Save updated elos\n",
    "    df_concat.at[idx, 'w_elo_before_game'] = w_elo_before\n",
    "    df_concat.at[idx, 'l_elo_before_game'] = l_elo_before\n",
    "    df_concat.at[idx, 'w_elo_after_game'] = w_elo_after\n",
    "    df_concat.at[idx, 'l_elo_after_game'] = l_elo_after\n",
    "    current_elos[w_id] = w_elo_after\n",
    "    current_elos[l_id] = l_elo_after\n",
    "    \n",
    "    # Save elos to team DataFrame\n",
    "    today = row.total_days\n",
    "    df_team_elos.at[today, w_id] = w_elo_after\n",
    "    df_team_elos.at[today, l_id] = l_elo_after"
   ]
  },
  {
   "cell_type": "code",
   "execution_count": 759,
   "metadata": {
    "collapsed": false
   },
   "outputs": [],
   "source": [
    "#bring the teams back to life\n",
    "df_concat.Wteam = le.inverse_transform(df_concat.Wteam)\n",
    "df_concat.Lteam = le.inverse_transform(df_concat.Lteam)"
   ]
  },
  {
   "cell_type": "code",
   "execution_count": 760,
   "metadata": {
    "collapsed": false
   },
   "outputs": [],
   "source": [
    "#split up the elo file for joining to the winners and losers tables below\n",
    "elo_final = df_concat[['Season','Daynum','Wteam','Lteam','w_elo_before_game','l_elo_before_game']]\n",
    "elo_winners = elo_final[['Season','Daynum','Wteam','w_elo_before_game','l_elo_before_game']]\n",
    "elo_losers = elo_final[['Season','Daynum','Lteam','l_elo_before_game','w_elo_before_game']]"
   ]
  },
  {
   "cell_type": "code",
   "execution_count": 761,
   "metadata": {
    "collapsed": false
   },
   "outputs": [],
   "source": [
    "#split into DF for winners and losers\n",
    "winners = all_games[['Season','Daynum','Wteam','Wfgm','Wfga','Wfgm3','Wfga3','Wor','Wdr','Wfta','Wast','Lfga','Lfgm','Lfga3','Lfgm3']]\n",
    "losers = all_games[['Season','Daynum','Lteam','Lfgm','Lfga','Lfgm3','Lfga3','Lor','Ldr','Lfta','Last','Wfga','Wfgm','Wfga3','Wfgm3']]"
   ]
  },
  {
   "cell_type": "code",
   "execution_count": 762,
   "metadata": {
    "collapsed": false
   },
   "outputs": [],
   "source": [
    "winners = pd.merge(winners,elo_winners,how='left',on=['Season','Daynum','Wteam'])\n",
    "losers = pd.merge(losers,elo_losers,how='left',on=['Season','Daynum','Lteam'])"
   ]
  },
  {
   "cell_type": "code",
   "execution_count": 763,
   "metadata": {
    "collapsed": false
   },
   "outputs": [],
   "source": [
    "#set columns for team and opponent\n",
    "cols = ['Season','Daynum','Team','fgm','fga','fgm3','fga3','oreb','dreb','fta','ast','opp_fga','opp_fgm','opp_fga3','opp_fgm3','elo','opp_elo']\n",
    "winners.columns = cols\n",
    "losers.columns = cols"
   ]
  },
  {
   "cell_type": "code",
   "execution_count": 764,
   "metadata": {
    "collapsed": false
   },
   "outputs": [],
   "source": [
    "#add a column to indicate if the team was a winner or a loser\n",
    "winners['team_type'] = 'winners'\n",
    "losers['team_type'] = 'losers'"
   ]
  },
  {
   "cell_type": "code",
   "execution_count": 765,
   "metadata": {
    "collapsed": false
   },
   "outputs": [],
   "source": [
    "#union the DFs together so we have a row for each team and each game\n",
    "df = pd.concat([winners,losers])\n",
    "df = df.sort_values(['Season','Team','Daynum'], ascending=[1,1,1])"
   ]
  },
  {
   "cell_type": "code",
   "execution_count": 766,
   "metadata": {
    "collapsed": false
   },
   "outputs": [],
   "source": [
    "#add in running totals to calculate stats at points in the season\n",
    "df['fgm_runn']= df.groupby(['Season','Team'])['fgm'].cumsum()\n",
    "df['fga_runn']= df.groupby(['Season','Team'])['fga'].cumsum()\n",
    "df['fgm3_runn']= df.groupby(['Season','Team'])['fgm3'].cumsum()\n",
    "df['fga3_runn']= df.groupby(['Season','Team'])['fga3'].cumsum()\n",
    "df['oreb_runn']= df.groupby(['Season','Team'])['oreb'].cumsum()\n",
    "df['dreb_runn']= df.groupby(['Season','Team'])['dreb'].cumsum()\n",
    "df['fta_runn']= df.groupby(['Season','Team'])['fta'].cumsum()\n",
    "df['ast_runn']= df.groupby(['Season','Team'])['ast'].cumsum()\n",
    "df['opp_fga_runn']= df.groupby(['Season','Team'])['opp_fga'].cumsum()\n",
    "df['opp_fgm_runn']= df.groupby(['Season','Team'])['opp_fgm'].cumsum()\n",
    "df['opp_fga3_runn']= df.groupby(['Season','Team'])['opp_fga3'].cumsum()\n",
    "df['opp_fgm3_runn']= df.groupby(['Season','Team'])['opp_fgm3'].cumsum()"
   ]
  },
  {
   "cell_type": "code",
   "execution_count": 767,
   "metadata": {
    "collapsed": false
   },
   "outputs": [],
   "source": [
    "#shift the rows up by one row so that we get the stats leading into each game, not after each game\n",
    "df['fgm_runn']= df.groupby(['Season','Team'])['fgm_runn'].transform(lambda x:x.shift(1))\n",
    "df['fga_runn']= df.groupby(['Season','Team'])['fga_runn'].transform(lambda x:x.shift(1))\n",
    "df['fgm3_runn']= df.groupby(['Season','Team'])['fgm3_runn'].transform(lambda x:x.shift(1))\n",
    "df['fga3_runn']= df.groupby(['Season','Team'])['fga3_runn'].transform(lambda x:x.shift(1))\n",
    "df['oreb_runn']= df.groupby(['Season','Team'])['oreb_runn'].transform(lambda x:x.shift(1))\n",
    "df['dreb_runn']= df.groupby(['Season','Team'])['dreb_runn'].transform(lambda x:x.shift(1))\n",
    "df['fta_runn']= df.groupby(['Season','Team'])['fta_runn'].transform(lambda x:x.shift(1))\n",
    "df['ast_runn']= df.groupby(['Season','Team'])['ast_runn'].transform(lambda x:x.shift(1))\n",
    "df['opp_fga_runn']= df.groupby(['Season','Team'])['opp_fga_runn'].transform(lambda x:x.shift(1))\n",
    "df['opp_fgm_runn']= df.groupby(['Season','Team'])['opp_fgm_runn'].transform(lambda x:x.shift(1))\n",
    "df['opp_fga3_runn']= df.groupby(['Season','Team'])['opp_fga3_runn'].transform(lambda x:x.shift(1))\n",
    "df['opp_fgm3_runn']= df.groupby(['Season','Team'])['opp_fgm3_runn'].transform(lambda x:x.shift(1))"
   ]
  },
  {
   "cell_type": "code",
   "execution_count": 769,
   "metadata": {
    "collapsed": false
   },
   "outputs": [],
   "source": [
    "#=calculate the features we are going to use...\n",
    "\n",
    "#3-pt FG %\n",
    "df['fg3_pct'] = df['fgm3_runn'] / df['fga3_runn']\n",
    "\n",
    "#3-pt FG ratio \n",
    "df['fg3_rate'] = df['fga3_runn'] / df['fga_runn']\n",
    "\n",
    "#OREb % (off and def)\n",
    "df['orr_rate'] = df['oreb_runn'] / (df['fga_runn'] - df['fgm_runn'])\n",
    "\n",
    "#FTA/FGA\n",
    "df['fta_rate'] = df['fta_runn'] / df['fga_runn']\n",
    "\n",
    "#EFG Rate   (FGM + (0.5 x 3PTM)) / FGA\n",
    "df['efg_rate'] = (df['fgm_runn'] + (.5 * df['fgm3_runn'])) / df['fga_runn']\n",
    "\n",
    "#Opp EFG Rate \n",
    "df['opp_efg_rate'] = (df['opp_fgm_runn'] + (.5 * df['opp_fgm3_runn'])) / df['opp_fga_runn']\n",
    "\n",
    "#days since last game\n",
    "df['last_game']= df.groupby(['Season','Team'])['Daynum'].transform(lambda x:x.shift(1))\n",
    "df['rest'] = df['Daynum'] - df['last_game']"
   ]
  },
  {
   "cell_type": "code",
   "execution_count": 770,
   "metadata": {
    "collapsed": false
   },
   "outputs": [],
   "source": [
    "#drop the columns which we aren't using for the model\n",
    "df.drop(['fgm', 'fga', 'fgm3', 'fga3', 'oreb',\n",
    "       'dreb', 'fta', 'ast', 'opp_fga', 'opp_fgm', 'opp_fga3', 'opp_fgm3',\n",
    "       'fgm_runn', 'fga_runn', 'fgm3_runn', 'fga3_runn',\n",
    "       'oreb_runn', 'dreb_runn', 'fta_runn', 'ast_runn', 'opp_fga_runn',\n",
    "       'opp_fgm_runn', 'opp_fga3_runn', 'opp_fgm3_runn','last_game'],axis=1,inplace=True)"
   ]
  },
  {
   "cell_type": "code",
   "execution_count": 771,
   "metadata": {
    "collapsed": false
   },
   "outputs": [
    {
     "name": "stderr",
     "output_type": "stream",
     "text": [
      "C:\\Users\\coreyjez\\Anaconda3\\lib\\site-packages\\pandas\\core\\frame.py:2834: SettingWithCopyWarning: \n",
      "A value is trying to be set on a copy of a slice from a DataFrame\n",
      "\n",
      "See the caveats in the documentation: http://pandas.pydata.org/pandas-docs/stable/indexing.html#indexing-view-versus-copy\n",
      "  **kwargs)\n"
     ]
    }
   ],
   "source": [
    "#create winners and losers columns\n",
    "winners_final = df[df['team_type']=='winners']\n",
    "winners_final.rename(columns={'Team':'Wteam'}, inplace=True)\n",
    "\n",
    "losers_final = df[df['team_type']=='losers']\n",
    "losers_final.rename(columns={'Team':'Lteam'}, inplace=True)"
   ]
  },
  {
   "cell_type": "code",
   "execution_count": 773,
   "metadata": {
    "collapsed": false
   },
   "outputs": [
    {
     "data": {
      "text/plain": [
       "Index(['Season', 'Daynum', 'Wteam', 'Lteam', 'Wscore', 'Lscore', 'elo_x',\n",
       "       'opp_elo_x', 'team_type_x', 'fg3_pct_x', 'fg3_rate_x', 'orr_rate_x',\n",
       "       'fta_rate_x', 'efg_rate_x', 'opp_efg_rate_x', 'rest_x', 'elo_y',\n",
       "       'opp_elo_y', 'team_type_y', 'fg3_pct_y', 'fg3_rate_y', 'orr_rate_y',\n",
       "       'fta_rate_y', 'efg_rate_y', 'opp_efg_rate_y', 'rest_y'],\n",
       "      dtype='object')"
      ]
     },
     "execution_count": 773,
     "metadata": {},
     "output_type": "execute_result"
    }
   ],
   "source": [
    "#build df to actually run prediction on \n",
    "#team a\n",
    "#team a stats: rest, fg3_pct, fg3_rate, orr_rate, fta_rate, efg_rate, opp_efg_rate\n",
    "#team b \n",
    "#team b stats: rest, fg3_pct, fg3_rate, orr_rate, fta_rate, efg_rate, opp_efg_rate\n",
    "#team a wins? target\n",
    "\n",
    "final = all_games[['Season','Daynum','Wteam','Lteam','Wscore','Lscore']]\n",
    "final = pd.merge(final,winners_final,how='inner',on=['Season','Daynum','Wteam'])\n",
    "final = pd.merge(final,losers_final,how='inner',on=['Season','Daynum','Lteam'])\n",
    "final.columns"
   ]
  },
  {
   "cell_type": "code",
   "execution_count": 774,
   "metadata": {
    "collapsed": false
   },
   "outputs": [],
   "source": [
    "#drop Nan rows - these are first games of the season for each team\n",
    "final = final.dropna(axis=0,how='any')"
   ]
  },
  {
   "cell_type": "code",
   "execution_count": 775,
   "metadata": {
    "collapsed": false
   },
   "outputs": [],
   "source": [
    "#rename columns for team X and Y\n",
    "final.rename(columns={'Wteam':'team_x'}, inplace=True)\n",
    "final.rename(columns={'Lteam':'team_y'}, inplace=True)\n",
    "final.rename(columns={'Wscore':'team_x_score'}, inplace=True)\n",
    "final.rename(columns={'Lscore':'team_y_score'}, inplace=True)"
   ]
  },
  {
   "cell_type": "code",
   "execution_count": 776,
   "metadata": {
    "collapsed": false
   },
   "outputs": [],
   "source": [
    "#reset DF to make the lower numbered team to be team X\n",
    "final['team_x_is_min'] = (final.team_x < final.team_y).astype('int')\n",
    "\n",
    "final_keep = final[final['team_x_is_min'] == 1]\n",
    "final_change = final[final['team_x_is_min'] == 0]"
   ]
  },
  {
   "cell_type": "code",
   "execution_count": 777,
   "metadata": {
    "collapsed": true
   },
   "outputs": [],
   "source": [
    "#strip team x columns from final_change df\n",
    "final_change_x = final_change[['Season','Daynum','team_x','team_x_score','elo_x','opp_elo_x','team_type_x','fg3_pct_x','fg3_rate_x','orr_rate_x',\n",
    "                       'fta_rate_x','efg_rate_x','opp_efg_rate_x','rest_x','team_y']]\n",
    "\n",
    "final_change_y = final_change[['Season','Daynum','team_y','team_y_score','elo_y','opp_elo_y','team_type_y','fg3_pct_y','fg3_rate_y','orr_rate_y',\n",
    "                       'fta_rate_y','efg_rate_y','opp_efg_rate_y','rest_y','team_x']]"
   ]
  },
  {
   "cell_type": "code",
   "execution_count": 778,
   "metadata": {
    "collapsed": true
   },
   "outputs": [],
   "source": [
    "#new swapped column names \n",
    "cols_x = ['Season','Daynum','team_y','team_y_score','elo_y','opp_elo_y','team_type_y','fg3_pct_y','fg3_rate_y','orr_rate_y',\n",
    "                       'fta_rate_y','efg_rate_y','opp_efg_rate_y','rest_y','team_x']\n",
    "\n",
    "cols_y = ['Season','Daynum','team_x','team_x_score','elo_x','opp_elo_x','team_type_x','fg3_pct_x','fg3_rate_x','orr_rate_x',\n",
    "                       'fta_rate_x','efg_rate_x','opp_efg_rate_x','rest_x','team_y']"
   ]
  },
  {
   "cell_type": "code",
   "execution_count": 779,
   "metadata": {
    "collapsed": false
   },
   "outputs": [],
   "source": [
    "#apply new column names\n",
    "final_change_x.columns = cols_x\n",
    "final_change_y.columns = cols_y"
   ]
  },
  {
   "cell_type": "code",
   "execution_count": 780,
   "metadata": {
    "collapsed": false
   },
   "outputs": [],
   "source": [
    "#join the data back together\n",
    "final_swapped = pd.merge(final_change_x,final_change_y,how='inner',on=['Season','Daynum','team_x','team_y'])"
   ]
  },
  {
   "cell_type": "code",
   "execution_count": 781,
   "metadata": {
    "collapsed": false,
    "scrolled": true
   },
   "outputs": [
    {
     "name": "stderr",
     "output_type": "stream",
     "text": [
      "C:\\Users\\coreyjez\\Anaconda3\\lib\\site-packages\\ipykernel\\__main__.py:2: SettingWithCopyWarning: \n",
      "A value is trying to be set on a copy of a slice from a DataFrame.\n",
      "Try using .loc[row_indexer,col_indexer] = value instead\n",
      "\n",
      "See the caveats in the documentation: http://pandas.pydata.org/pandas-docs/stable/indexing.html#indexing-view-versus-copy\n",
      "  from ipykernel import kernelapp as app\n"
     ]
    }
   ],
   "source": [
    "#set target column on each DF \n",
    "final_keep['team_x_wins'] = 1 \n",
    "final_swapped['team_x_wins'] = 0 "
   ]
  },
  {
   "cell_type": "code",
   "execution_count": 782,
   "metadata": {
    "collapsed": false
   },
   "outputs": [
    {
     "name": "stderr",
     "output_type": "stream",
     "text": [
      "C:\\Users\\coreyjez\\Anaconda3\\lib\\site-packages\\ipykernel\\__main__.py:10: SettingWithCopyWarning: \n",
      "A value is trying to be set on a copy of a slice from a DataFrame\n",
      "\n",
      "See the caveats in the documentation: http://pandas.pydata.org/pandas-docs/stable/indexing.html#indexing-view-versus-copy\n"
     ]
    }
   ],
   "source": [
    "#rearrange the columns so they can be unioned together\n",
    "final_swapped_cols = ['Season', 'Daynum', 'team_x', 'team_y', 'team_x_score', 'team_y_score','elo_x','opp_elo_x',\n",
    "       'team_type_x', 'fg3_pct_x', 'fg3_rate_x', 'orr_rate_x', 'fta_rate_x',\n",
    "       'efg_rate_x', 'opp_efg_rate_x', 'rest_x','elo_y','opp_elo_y','team_type_y', 'fg3_pct_y',\n",
    "       'fg3_rate_y', 'orr_rate_y', 'fta_rate_y', 'efg_rate_y',\n",
    "       'opp_efg_rate_y', 'rest_y', 'team_x_wins']\n",
    "\n",
    "final_swapped = final_swapped[final_swapped_cols]\n",
    "\n",
    "final_keep.drop('team_x_is_min',1,inplace=True)"
   ]
  },
  {
   "cell_type": "code",
   "execution_count": 783,
   "metadata": {
    "collapsed": false
   },
   "outputs": [],
   "source": [
    "#create the final table\n",
    "final_final = pd.concat([final_keep,final_swapped])"
   ]
  },
  {
   "cell_type": "code",
   "execution_count": 784,
   "metadata": {
    "collapsed": false
   },
   "outputs": [],
   "source": [
    "#split into training and testing data to test on the 2016 NCAA tourney\n",
    "train1 = final_final[final_final['Season']<2016]\n",
    "train2 = final_final[(final_final['Season'] == 2016) & (final_final['Daynum']<134)]\n",
    "train = pd.concat([train1,train2])\n",
    "test = final_final[(final_final['Season'] == 2016) & (final_final['Daynum']>=134)]"
   ]
  },
  {
   "cell_type": "code",
   "execution_count": 785,
   "metadata": {
    "collapsed": false
   },
   "outputs": [],
   "source": [
    "#setup X and Y\n",
    "\n",
    "X_train = train[['elo_x','fg3_pct_x', 'fg3_rate_x', 'orr_rate_x', 'fta_rate_x', 'efg_rate_x', 'opp_efg_rate_x',\n",
    "       'elo_y','fg3_pct_y', 'fg3_rate_y',\n",
    "       'orr_rate_y', 'fta_rate_y', 'efg_rate_y','opp_efg_rate_y',]]\n",
    "\n",
    "y_train = train.team_x_wins\n",
    "\n",
    "X_test = test[['elo_x','fg3_pct_x', 'fg3_rate_x', 'orr_rate_x', 'fta_rate_x', 'efg_rate_x','opp_efg_rate_x',\n",
    "      'elo_y','fg3_pct_y', 'fg3_rate_y',\n",
    "       'orr_rate_y', 'fta_rate_y', 'efg_rate_y','opp_efg_rate_y',]]\n",
    "\n",
    "y_test = test.team_x_wins"
   ]
  },
  {
   "cell_type": "code",
   "execution_count": 786,
   "metadata": {
    "collapsed": false
   },
   "outputs": [],
   "source": [
    "#basic random forest\n",
    "rf = RandomForestClassifier(n_jobs=-1,random_state=123)\n",
    "cls = rf.fit(X_train,y_train)\n",
    "preds = rf.predict(X_test)"
   ]
  },
  {
   "cell_type": "code",
   "execution_count": 787,
   "metadata": {
    "collapsed": false
   },
   "outputs": [
    {
     "data": {
      "text/plain": [
       "0.63962673186386532"
      ]
     },
     "execution_count": 787,
     "metadata": {},
     "output_type": "execute_result"
    }
   ],
   "source": [
    "proba_x = cls.predict_proba(X_test)[:,1]\n",
    "#calculate the log_loss \n",
    "og_rf_err = log_loss(y_test,proba_x)\n",
    "og_rf_err"
   ]
  },
  {
   "cell_type": "code",
   "execution_count": 788,
   "metadata": {
    "collapsed": false
   },
   "outputs": [
    {
     "ename": "KeyboardInterrupt",
     "evalue": "",
     "output_type": "error",
     "traceback": [
      "\u001b[0;31m---------------------------------------------------------------------------\u001b[0m",
      "\u001b[0;31mKeyboardInterrupt\u001b[0m                         Traceback (most recent call last)",
      "\u001b[0;32m<ipython-input-788-4d606040dd5f>\u001b[0m in \u001b[0;36m<module>\u001b[0;34m()\u001b[0m\n\u001b[1;32m      7\u001b[0m \u001b[1;32mfor\u001b[0m \u001b[0mestimator\u001b[0m \u001b[1;32min\u001b[0m \u001b[0mestimator_range\u001b[0m\u001b[1;33m:\u001b[0m\u001b[1;33m\u001b[0m\u001b[0m\n\u001b[1;32m      8\u001b[0m     \u001b[0mtune\u001b[0m \u001b[1;33m=\u001b[0m \u001b[0mRandomForestClassifier\u001b[0m\u001b[1;33m(\u001b[0m\u001b[0mn_estimators\u001b[0m\u001b[1;33m=\u001b[0m\u001b[0mestimator\u001b[0m\u001b[1;33m,\u001b[0m\u001b[0mrandom_state\u001b[0m\u001b[1;33m=\u001b[0m\u001b[1;36m123\u001b[0m\u001b[1;33m,\u001b[0m\u001b[0mn_jobs\u001b[0m\u001b[1;33m=\u001b[0m\u001b[1;33m-\u001b[0m\u001b[1;36m1\u001b[0m\u001b[1;33m)\u001b[0m\u001b[1;33m\u001b[0m\u001b[0m\n\u001b[0;32m----> 9\u001b[0;31m     \u001b[0mcls_tune\u001b[0m \u001b[1;33m=\u001b[0m \u001b[0mtune\u001b[0m\u001b[1;33m.\u001b[0m\u001b[0mfit\u001b[0m\u001b[1;33m(\u001b[0m\u001b[0mX_train\u001b[0m\u001b[1;33m,\u001b[0m\u001b[0my_train\u001b[0m\u001b[1;33m)\u001b[0m\u001b[1;33m\u001b[0m\u001b[0m\n\u001b[0m\u001b[1;32m     10\u001b[0m     \u001b[0mpreds\u001b[0m \u001b[1;33m=\u001b[0m \u001b[0mtune\u001b[0m\u001b[1;33m.\u001b[0m\u001b[0mpredict\u001b[0m\u001b[1;33m(\u001b[0m\u001b[0mX_test\u001b[0m\u001b[1;33m)\u001b[0m\u001b[1;33m\u001b[0m\u001b[0m\n\u001b[1;32m     11\u001b[0m     \u001b[0mproba\u001b[0m \u001b[1;33m=\u001b[0m \u001b[0mcls_tune\u001b[0m\u001b[1;33m.\u001b[0m\u001b[0mpredict_proba\u001b[0m\u001b[1;33m(\u001b[0m\u001b[0mX_test\u001b[0m\u001b[1;33m)\u001b[0m\u001b[1;33m[\u001b[0m\u001b[1;33m:\u001b[0m\u001b[1;33m,\u001b[0m\u001b[1;36m1\u001b[0m\u001b[1;33m]\u001b[0m\u001b[1;33m\u001b[0m\u001b[0m\n",
      "\u001b[0;32mC:\\Users\\coreyjez\\Anaconda3\\lib\\site-packages\\sklearn\\ensemble\\forest.py\u001b[0m in \u001b[0;36mfit\u001b[0;34m(self, X, y, sample_weight)\u001b[0m\n\u001b[1;32m    324\u001b[0m                     \u001b[0mt\u001b[0m\u001b[1;33m,\u001b[0m \u001b[0mself\u001b[0m\u001b[1;33m,\u001b[0m \u001b[0mX\u001b[0m\u001b[1;33m,\u001b[0m \u001b[0my\u001b[0m\u001b[1;33m,\u001b[0m \u001b[0msample_weight\u001b[0m\u001b[1;33m,\u001b[0m \u001b[0mi\u001b[0m\u001b[1;33m,\u001b[0m \u001b[0mlen\u001b[0m\u001b[1;33m(\u001b[0m\u001b[0mtrees\u001b[0m\u001b[1;33m)\u001b[0m\u001b[1;33m,\u001b[0m\u001b[1;33m\u001b[0m\u001b[0m\n\u001b[1;32m    325\u001b[0m                     verbose=self.verbose, class_weight=self.class_weight)\n\u001b[0;32m--> 326\u001b[0;31m                 for i, t in enumerate(trees))\n\u001b[0m\u001b[1;32m    327\u001b[0m \u001b[1;33m\u001b[0m\u001b[0m\n\u001b[1;32m    328\u001b[0m             \u001b[1;31m# Collect newly grown trees\u001b[0m\u001b[1;33m\u001b[0m\u001b[1;33m\u001b[0m\u001b[0m\n",
      "\u001b[0;32mC:\\Users\\coreyjez\\Anaconda3\\lib\\site-packages\\sklearn\\externals\\joblib\\parallel.py\u001b[0m in \u001b[0;36m__call__\u001b[0;34m(self, iterable)\u001b[0m\n\u001b[1;32m    766\u001b[0m                 \u001b[1;31m# consumption.\u001b[0m\u001b[1;33m\u001b[0m\u001b[1;33m\u001b[0m\u001b[0m\n\u001b[1;32m    767\u001b[0m                 \u001b[0mself\u001b[0m\u001b[1;33m.\u001b[0m\u001b[0m_iterating\u001b[0m \u001b[1;33m=\u001b[0m \u001b[1;32mFalse\u001b[0m\u001b[1;33m\u001b[0m\u001b[0m\n\u001b[0;32m--> 768\u001b[0;31m             \u001b[0mself\u001b[0m\u001b[1;33m.\u001b[0m\u001b[0mretrieve\u001b[0m\u001b[1;33m(\u001b[0m\u001b[1;33m)\u001b[0m\u001b[1;33m\u001b[0m\u001b[0m\n\u001b[0m\u001b[1;32m    769\u001b[0m             \u001b[1;31m# Make sure that we get a last message telling us we are done\u001b[0m\u001b[1;33m\u001b[0m\u001b[1;33m\u001b[0m\u001b[0m\n\u001b[1;32m    770\u001b[0m             \u001b[0melapsed_time\u001b[0m \u001b[1;33m=\u001b[0m \u001b[0mtime\u001b[0m\u001b[1;33m.\u001b[0m\u001b[0mtime\u001b[0m\u001b[1;33m(\u001b[0m\u001b[1;33m)\u001b[0m \u001b[1;33m-\u001b[0m \u001b[0mself\u001b[0m\u001b[1;33m.\u001b[0m\u001b[0m_start_time\u001b[0m\u001b[1;33m\u001b[0m\u001b[0m\n",
      "\u001b[0;32mC:\\Users\\coreyjez\\Anaconda3\\lib\\site-packages\\sklearn\\externals\\joblib\\parallel.py\u001b[0m in \u001b[0;36mretrieve\u001b[0;34m(self)\u001b[0m\n\u001b[1;32m    717\u001b[0m                     \u001b[0mensure_ready\u001b[0m \u001b[1;33m=\u001b[0m \u001b[0mself\u001b[0m\u001b[1;33m.\u001b[0m\u001b[0m_managed_backend\u001b[0m\u001b[1;33m\u001b[0m\u001b[0m\n\u001b[1;32m    718\u001b[0m                     \u001b[0mbackend\u001b[0m\u001b[1;33m.\u001b[0m\u001b[0mabort_everything\u001b[0m\u001b[1;33m(\u001b[0m\u001b[0mensure_ready\u001b[0m\u001b[1;33m=\u001b[0m\u001b[0mensure_ready\u001b[0m\u001b[1;33m)\u001b[0m\u001b[1;33m\u001b[0m\u001b[0m\n\u001b[0;32m--> 719\u001b[0;31m                 \u001b[1;32mraise\u001b[0m \u001b[0mexception\u001b[0m\u001b[1;33m\u001b[0m\u001b[0m\n\u001b[0m\u001b[1;32m    720\u001b[0m \u001b[1;33m\u001b[0m\u001b[0m\n\u001b[1;32m    721\u001b[0m     \u001b[1;32mdef\u001b[0m \u001b[0m__call__\u001b[0m\u001b[1;33m(\u001b[0m\u001b[0mself\u001b[0m\u001b[1;33m,\u001b[0m \u001b[0miterable\u001b[0m\u001b[1;33m)\u001b[0m\u001b[1;33m:\u001b[0m\u001b[1;33m\u001b[0m\u001b[0m\n",
      "\u001b[0;32mC:\\Users\\coreyjez\\Anaconda3\\lib\\site-packages\\sklearn\\externals\\joblib\\parallel.py\u001b[0m in \u001b[0;36mretrieve\u001b[0;34m(self)\u001b[0m\n\u001b[1;32m    680\u001b[0m                 \u001b[1;31m# check if timeout supported in backend future implementation\u001b[0m\u001b[1;33m\u001b[0m\u001b[1;33m\u001b[0m\u001b[0m\n\u001b[1;32m    681\u001b[0m                 \u001b[1;32mif\u001b[0m \u001b[1;34m'timeout'\u001b[0m \u001b[1;32min\u001b[0m \u001b[0mgetfullargspec\u001b[0m\u001b[1;33m(\u001b[0m\u001b[0mjob\u001b[0m\u001b[1;33m.\u001b[0m\u001b[0mget\u001b[0m\u001b[1;33m)\u001b[0m\u001b[1;33m.\u001b[0m\u001b[0margs\u001b[0m\u001b[1;33m:\u001b[0m\u001b[1;33m\u001b[0m\u001b[0m\n\u001b[0;32m--> 682\u001b[0;31m                     \u001b[0mself\u001b[0m\u001b[1;33m.\u001b[0m\u001b[0m_output\u001b[0m\u001b[1;33m.\u001b[0m\u001b[0mextend\u001b[0m\u001b[1;33m(\u001b[0m\u001b[0mjob\u001b[0m\u001b[1;33m.\u001b[0m\u001b[0mget\u001b[0m\u001b[1;33m(\u001b[0m\u001b[0mtimeout\u001b[0m\u001b[1;33m=\u001b[0m\u001b[0mself\u001b[0m\u001b[1;33m.\u001b[0m\u001b[0mtimeout\u001b[0m\u001b[1;33m)\u001b[0m\u001b[1;33m)\u001b[0m\u001b[1;33m\u001b[0m\u001b[0m\n\u001b[0m\u001b[1;32m    683\u001b[0m                 \u001b[1;32melse\u001b[0m\u001b[1;33m:\u001b[0m\u001b[1;33m\u001b[0m\u001b[0m\n\u001b[1;32m    684\u001b[0m                     \u001b[0mself\u001b[0m\u001b[1;33m.\u001b[0m\u001b[0m_output\u001b[0m\u001b[1;33m.\u001b[0m\u001b[0mextend\u001b[0m\u001b[1;33m(\u001b[0m\u001b[0mjob\u001b[0m\u001b[1;33m.\u001b[0m\u001b[0mget\u001b[0m\u001b[1;33m(\u001b[0m\u001b[1;33m)\u001b[0m\u001b[1;33m)\u001b[0m\u001b[1;33m\u001b[0m\u001b[0m\n",
      "\u001b[0;32mC:\\Users\\coreyjez\\Anaconda3\\lib\\multiprocessing\\pool.py\u001b[0m in \u001b[0;36mget\u001b[0;34m(self, timeout)\u001b[0m\n\u001b[1;32m    600\u001b[0m \u001b[1;33m\u001b[0m\u001b[0m\n\u001b[1;32m    601\u001b[0m     \u001b[1;32mdef\u001b[0m \u001b[0mget\u001b[0m\u001b[1;33m(\u001b[0m\u001b[0mself\u001b[0m\u001b[1;33m,\u001b[0m \u001b[0mtimeout\u001b[0m\u001b[1;33m=\u001b[0m\u001b[1;32mNone\u001b[0m\u001b[1;33m)\u001b[0m\u001b[1;33m:\u001b[0m\u001b[1;33m\u001b[0m\u001b[0m\n\u001b[0;32m--> 602\u001b[0;31m         \u001b[0mself\u001b[0m\u001b[1;33m.\u001b[0m\u001b[0mwait\u001b[0m\u001b[1;33m(\u001b[0m\u001b[0mtimeout\u001b[0m\u001b[1;33m)\u001b[0m\u001b[1;33m\u001b[0m\u001b[0m\n\u001b[0m\u001b[1;32m    603\u001b[0m         \u001b[1;32mif\u001b[0m \u001b[1;32mnot\u001b[0m \u001b[0mself\u001b[0m\u001b[1;33m.\u001b[0m\u001b[0mready\u001b[0m\u001b[1;33m(\u001b[0m\u001b[1;33m)\u001b[0m\u001b[1;33m:\u001b[0m\u001b[1;33m\u001b[0m\u001b[0m\n\u001b[1;32m    604\u001b[0m             \u001b[1;32mraise\u001b[0m \u001b[0mTimeoutError\u001b[0m\u001b[1;33m\u001b[0m\u001b[0m\n",
      "\u001b[0;32mC:\\Users\\coreyjez\\Anaconda3\\lib\\multiprocessing\\pool.py\u001b[0m in \u001b[0;36mwait\u001b[0;34m(self, timeout)\u001b[0m\n\u001b[1;32m    597\u001b[0m \u001b[1;33m\u001b[0m\u001b[0m\n\u001b[1;32m    598\u001b[0m     \u001b[1;32mdef\u001b[0m \u001b[0mwait\u001b[0m\u001b[1;33m(\u001b[0m\u001b[0mself\u001b[0m\u001b[1;33m,\u001b[0m \u001b[0mtimeout\u001b[0m\u001b[1;33m=\u001b[0m\u001b[1;32mNone\u001b[0m\u001b[1;33m)\u001b[0m\u001b[1;33m:\u001b[0m\u001b[1;33m\u001b[0m\u001b[0m\n\u001b[0;32m--> 599\u001b[0;31m         \u001b[0mself\u001b[0m\u001b[1;33m.\u001b[0m\u001b[0m_event\u001b[0m\u001b[1;33m.\u001b[0m\u001b[0mwait\u001b[0m\u001b[1;33m(\u001b[0m\u001b[0mtimeout\u001b[0m\u001b[1;33m)\u001b[0m\u001b[1;33m\u001b[0m\u001b[0m\n\u001b[0m\u001b[1;32m    600\u001b[0m \u001b[1;33m\u001b[0m\u001b[0m\n\u001b[1;32m    601\u001b[0m     \u001b[1;32mdef\u001b[0m \u001b[0mget\u001b[0m\u001b[1;33m(\u001b[0m\u001b[0mself\u001b[0m\u001b[1;33m,\u001b[0m \u001b[0mtimeout\u001b[0m\u001b[1;33m=\u001b[0m\u001b[1;32mNone\u001b[0m\u001b[1;33m)\u001b[0m\u001b[1;33m:\u001b[0m\u001b[1;33m\u001b[0m\u001b[0m\n",
      "\u001b[0;32mC:\\Users\\coreyjez\\Anaconda3\\lib\\threading.py\u001b[0m in \u001b[0;36mwait\u001b[0;34m(self, timeout)\u001b[0m\n\u001b[1;32m    549\u001b[0m             \u001b[0msignaled\u001b[0m \u001b[1;33m=\u001b[0m \u001b[0mself\u001b[0m\u001b[1;33m.\u001b[0m\u001b[0m_flag\u001b[0m\u001b[1;33m\u001b[0m\u001b[0m\n\u001b[1;32m    550\u001b[0m             \u001b[1;32mif\u001b[0m \u001b[1;32mnot\u001b[0m \u001b[0msignaled\u001b[0m\u001b[1;33m:\u001b[0m\u001b[1;33m\u001b[0m\u001b[0m\n\u001b[0;32m--> 551\u001b[0;31m                 \u001b[0msignaled\u001b[0m \u001b[1;33m=\u001b[0m \u001b[0mself\u001b[0m\u001b[1;33m.\u001b[0m\u001b[0m_cond\u001b[0m\u001b[1;33m.\u001b[0m\u001b[0mwait\u001b[0m\u001b[1;33m(\u001b[0m\u001b[0mtimeout\u001b[0m\u001b[1;33m)\u001b[0m\u001b[1;33m\u001b[0m\u001b[0m\n\u001b[0m\u001b[1;32m    552\u001b[0m             \u001b[1;32mreturn\u001b[0m \u001b[0msignaled\u001b[0m\u001b[1;33m\u001b[0m\u001b[0m\n\u001b[1;32m    553\u001b[0m \u001b[1;33m\u001b[0m\u001b[0m\n",
      "\u001b[0;32mC:\\Users\\coreyjez\\Anaconda3\\lib\\threading.py\u001b[0m in \u001b[0;36mwait\u001b[0;34m(self, timeout)\u001b[0m\n\u001b[1;32m    293\u001b[0m         \u001b[1;32mtry\u001b[0m\u001b[1;33m:\u001b[0m    \u001b[1;31m# restore state no matter what (e.g., KeyboardInterrupt)\u001b[0m\u001b[1;33m\u001b[0m\u001b[0m\n\u001b[1;32m    294\u001b[0m             \u001b[1;32mif\u001b[0m \u001b[0mtimeout\u001b[0m \u001b[1;32mis\u001b[0m \u001b[1;32mNone\u001b[0m\u001b[1;33m:\u001b[0m\u001b[1;33m\u001b[0m\u001b[0m\n\u001b[0;32m--> 295\u001b[0;31m                 \u001b[0mwaiter\u001b[0m\u001b[1;33m.\u001b[0m\u001b[0macquire\u001b[0m\u001b[1;33m(\u001b[0m\u001b[1;33m)\u001b[0m\u001b[1;33m\u001b[0m\u001b[0m\n\u001b[0m\u001b[1;32m    296\u001b[0m                 \u001b[0mgotit\u001b[0m \u001b[1;33m=\u001b[0m \u001b[1;32mTrue\u001b[0m\u001b[1;33m\u001b[0m\u001b[0m\n\u001b[1;32m    297\u001b[0m             \u001b[1;32melse\u001b[0m\u001b[1;33m:\u001b[0m\u001b[1;33m\u001b[0m\u001b[0m\n",
      "\u001b[0;31mKeyboardInterrupt\u001b[0m: "
     ]
    }
   ],
   "source": [
    "#lets tune some of the key parameters: n_estimators, max_features, max_depth, min_leaf_per_node\n",
    "#first up is n_estimators\n",
    "estimator_range = [20,500,20]\n",
    "\n",
    "log_loss_scores = []\n",
    "\n",
    "for estimator in estimator_range:\n",
    "    tune = RandomForestClassifier(n_estimators=estimator,random_state=123,n_jobs=-1)\n",
    "    cls_tune = tune.fit(X_train,y_train)\n",
    "    preds = tune.predict(X_test)\n",
    "    proba = cls_tune.predict_proba(X_test)[:,1]\n",
    "    ll_error = log_loss(y_test,proba)\n",
    "    log_loss_scores.append(ll_error)"
   ]
  },
  {
   "cell_type": "code",
   "execution_count": 459,
   "metadata": {
    "collapsed": false
   },
   "outputs": [
    {
     "data": {
      "text/plain": [
       "<matplotlib.text.Text at 0x1bf112b9ac8>"
      ]
     },
     "execution_count": 459,
     "metadata": {},
     "output_type": "execute_result"
    },
    {
     "data": {
      "image/png": "[encoded data removed]",
      "text/plain": [
       "<matplotlib.figure.Figure at 0x1bf11331a20>"
      ]
     },
     "metadata": {},
     "output_type": "display_data"
    }
   ],
   "source": [
    "plt.plot(estimator_range,log_loss_scores)\n",
    "plt.xlabel('n_estimators')\n",
    "plt.ylabel('log_loss_score')"
   ]
  },
  {
   "cell_type": "code",
   "execution_count": 453,
   "metadata": {
    "collapsed": false
   },
   "outputs": [],
   "source": [
    "#it looks like 100 n_estimators is the best, but its basically flat so lets tune for the n features\n",
    "# list of values to try for max_features\n",
    "feature_range = [3,6,9,12,16]\n",
    "\n",
    "# list to store the average RMSE for each value of max_features\n",
    "log_loss_scores = []\n",
    "\n",
    "for feature in feature_range:\n",
    "    tune2 = RandomForestClassifier(n_estimators=100,max_features=feature,random_state=123,n_jobs=-1)\n",
    "    cls_tune2 = tune2.fit(X_train,y_train)\n",
    "    preds = tune2.predict(X_test)\n",
    "    proba = cls_tune2.predict_proba(X_test)[:,1]\n",
    "    ll_error = log_loss(y_test,proba)\n",
    "    log_loss_scores.append(ll_error)"
   ]
  },
  {
   "cell_type": "code",
   "execution_count": 454,
   "metadata": {
    "collapsed": false
   },
   "outputs": [
    {
     "data": {
      "text/plain": [
       "<matplotlib.text.Text at 0x1bf08142d68>"
      ]
     },
     "execution_count": 454,
     "metadata": {},
     "output_type": "execute_result"
    },
    {
     "data": {
      "image/png": "[encoded data removed]",
      "text/plain": [
       "<matplotlib.figure.Figure at 0x1bf13138940>"
      ]
     },
     "metadata": {},
     "output_type": "display_data"
    }
   ],
   "source": [
    "plt.plot(feature_range,log_loss_scores)\n",
    "plt.xlabel('n_features')\n",
    "plt.ylabel('log_loss_score')"
   ]
  },
  {
   "cell_type": "code",
   "execution_count": 456,
   "metadata": {
    "collapsed": false
   },
   "outputs": [],
   "source": [
    "#looks like 12 estimators is best, so finally lets tune for min_samples_split\n",
    "#it looks like 100 n_estimators is the best, so lets tune for the n features\n",
    "# list of values to try for max_features\n",
    "min_samples = range(2,10,2)\n",
    "\n",
    "# list to store the average log loss for each value of max_features\n",
    "log_loss_scores = []\n",
    "\n",
    "for samples in min_samples:\n",
    "    tune2 = RandomForestClassifier(n_estimators=100,max_features=12,random_state=123,n_jobs=-1,min_samples_split=samples)\n",
    "    cls_tune2 = tune2.fit(X_train,y_train)\n",
    "    preds = tune2.predict(X_test)\n",
    "    proba = cls_tune2.predict_proba(X_test)[:,1]\n",
    "    ll_error = log_loss(y_test,proba)\n",
    "    log_loss_scores.append(ll_error)"
   ]
  },
  {
   "cell_type": "code",
   "execution_count": 457,
   "metadata": {
    "collapsed": false
   },
   "outputs": [
    {
     "data": {
      "text/plain": [
       "<matplotlib.text.Text at 0x1bf081306a0>"
      ]
     },
     "execution_count": 457,
     "metadata": {},
     "output_type": "execute_result"
    },
    {
     "data": {
      "image/png": "[encoded data removed]",
      "text/plain": [
       "<matplotlib.figure.Figure at 0x1bf0e6e9e10>"
      ]
     },
     "metadata": {},
     "output_type": "display_data"
    }
   ],
   "source": [
    "#best min samples is 2\n",
    "plt.plot(min_samples,log_loss_scores)\n",
    "plt.xlabel('min_samples')\n",
    "plt.ylabel('log_loss_score')"
   ]
  },
  {
   "cell_type": "code",
   "execution_count": 789,
   "metadata": {
    "collapsed": false,
    "scrolled": true
   },
   "outputs": [
    {
     "name": "stdout",
     "output_type": "stream",
     "text": [
      "original rf error: 0.639626731864\n",
      "best rf error: 0.596895656258\n"
     ]
    }
   ],
   "source": [
    "#now we can run our best RF and get our baseline score and predictions\n",
    "rf_best = RandomForestClassifier(n_jobs=-1,random_state=123,n_estimators=100,max_features=12,\n",
    "                            min_samples_split=2)\n",
    "cls = rf_best.fit(X_train,y_train)\n",
    "preds = rf_best.predict(X_test)\n",
    "proba_x = cls.predict_proba(X_test)[:,1]\n",
    "best_rf_err = log_loss(y_test,proba_x)\n",
    "print(\"original rf error:\",og_rf_err)\n",
    "print(\"best rf error:\",best_rf_err)"
   ]
  },
  {
   "cell_type": "code",
   "execution_count": 790,
   "metadata": {
    "collapsed": false
   },
   "outputs": [
    {
     "name": "stderr",
     "output_type": "stream",
     "text": [
      "C:\\Users\\coreyjez\\Anaconda3\\lib\\site-packages\\ipykernel\\__main__.py:3: SettingWithCopyWarning: \n",
      "A value is trying to be set on a copy of a slice from a DataFrame.\n",
      "Try using .loc[row_indexer,col_indexer] = value instead\n",
      "\n",
      "See the caveats in the documentation: http://pandas.pydata.org/pandas-docs/stable/indexing.html#indexing-view-versus-copy\n",
      "  app.launch_new_instance()\n",
      "C:\\Users\\coreyjez\\Anaconda3\\lib\\site-packages\\ipykernel\\__main__.py:4: SettingWithCopyWarning: \n",
      "A value is trying to be set on a copy of a slice from a DataFrame.\n",
      "Try using .loc[row_indexer,col_indexer] = value instead\n",
      "\n",
      "See the caveats in the documentation: http://pandas.pydata.org/pandas-docs/stable/indexing.html#indexing-view-versus-copy\n"
     ]
    }
   ],
   "source": [
    "#build final file to look at predictions\n",
    "examine = test[['Season','Daynum','team_x', 'team_y', 'team_x_score', 'team_y_score']]\n",
    "examine['pred'] = preds\n",
    "examine['proba'] = proba_x\n",
    "examine = pd.merge(examine,teams,how='inner',left_on='team_x',right_on='Team_Id')\n",
    "examine = examine.drop('Team_Id',1)\n",
    "examine.rename(columns={'Team_Name':'team_x_name'}, inplace=True)\n",
    "examine = pd.merge(examine,teams,how='inner',left_on='team_y',right_on='Team_Id')\n",
    "examine = examine.drop('Team_Id',1)\n",
    "examine.rename(columns={'Team_Name':'team_y_name'}, inplace=True)\n",
    "examine.to_csv(\"test_2016.csv\")"
   ]
  },
  {
   "cell_type": "code",
   "execution_count": 801,
   "metadata": {
    "collapsed": false
   },
   "outputs": [],
   "source": [
    "#apply the bracket to our 2017 touranment ERMAGHERD ITS HAPPENING (insert Ron paul gif here)\n",
    "sample = pd.read_csv(\"SampleSubmission.csv\")"
   ]
  },
  {
   "cell_type": "code",
   "execution_count": 802,
   "metadata": {
    "collapsed": false
   },
   "outputs": [],
   "source": [
    "sample.drop('Pred',axis=1,inplace=True)\n",
    "sample = sample['Id'].apply(lambda x: pd.Series(x.split('_')))"
   ]
  },
  {
   "cell_type": "code",
   "execution_count": 803,
   "metadata": {
    "collapsed": false
   },
   "outputs": [],
   "source": [
    "cols = ['Year','team_x','team_y']\n",
    "sample.columns = cols\n",
    "sample['team_x'] = pd.to_numeric(sample.team_x)\n",
    "sample['team_y'] = pd.to_numeric(sample.team_y)"
   ]
  },
  {
   "cell_type": "code",
   "execution_count": 804,
   "metadata": {
    "collapsed": false
   },
   "outputs": [
    {
     "data": {
      "text/html": [
       "<div>\n",
       "<table border=\"1\" class=\"dataframe\">\n",
       "  <thead>\n",
       "    <tr style=\"text-align: right;\">\n",
       "      <th></th>\n",
       "      <th>Season</th>\n",
       "      <th>Daynum</th>\n",
       "      <th>Team</th>\n",
       "      <th>elo</th>\n",
       "      <th>opp_elo</th>\n",
       "      <th>team_type</th>\n",
       "      <th>fg3_pct</th>\n",
       "      <th>fg3_rate</th>\n",
       "      <th>orr_rate</th>\n",
       "      <th>fta_rate</th>\n",
       "      <th>efg_rate</th>\n",
       "      <th>opp_efg_rate</th>\n",
       "      <th>rest</th>\n",
       "    </tr>\n",
       "  </thead>\n",
       "  <tbody>\n",
       "    <tr>\n",
       "      <th>71833</th>\n",
       "      <td>2017</td>\n",
       "      <td>22</td>\n",
       "      <td>1101</td>\n",
       "      <td>1406</td>\n",
       "      <td>1238</td>\n",
       "      <td>losers</td>\n",
       "      <td>0.333333</td>\n",
       "      <td>0.326087</td>\n",
       "      <td>0.125000</td>\n",
       "      <td>0.630435</td>\n",
       "      <td>0.532609</td>\n",
       "      <td>0.391667</td>\n",
       "      <td>5.0</td>\n",
       "    </tr>\n",
       "    <tr>\n",
       "      <th>72009</th>\n",
       "      <td>2017</td>\n",
       "      <td>25</td>\n",
       "      <td>1101</td>\n",
       "      <td>1359</td>\n",
       "      <td>1798</td>\n",
       "      <td>losers</td>\n",
       "      <td>0.250000</td>\n",
       "      <td>0.297872</td>\n",
       "      <td>0.177778</td>\n",
       "      <td>0.500000</td>\n",
       "      <td>0.558511</td>\n",
       "      <td>0.443966</td>\n",
       "      <td>3.0</td>\n",
       "    </tr>\n",
       "    <tr>\n",
       "      <th>72273</th>\n",
       "      <td>2017</td>\n",
       "      <td>30</td>\n",
       "      <td>1101</td>\n",
       "      <td>1355</td>\n",
       "      <td>1555</td>\n",
       "      <td>losers</td>\n",
       "      <td>0.280000</td>\n",
       "      <td>0.331126</td>\n",
       "      <td>0.230769</td>\n",
       "      <td>0.437086</td>\n",
       "      <td>0.529801</td>\n",
       "      <td>0.426901</td>\n",
       "      <td>5.0</td>\n",
       "    </tr>\n",
       "    <tr>\n",
       "      <th>72337</th>\n",
       "      <td>2017</td>\n",
       "      <td>33</td>\n",
       "      <td>1101</td>\n",
       "      <td>1339</td>\n",
       "      <td>1276</td>\n",
       "      <td>winners</td>\n",
       "      <td>0.297297</td>\n",
       "      <td>0.371859</td>\n",
       "      <td>0.226415</td>\n",
       "      <td>0.381910</td>\n",
       "      <td>0.522613</td>\n",
       "      <td>0.438356</td>\n",
       "      <td>3.0</td>\n",
       "    </tr>\n",
       "    <tr>\n",
       "      <th>72844</th>\n",
       "      <td>2017</td>\n",
       "      <td>47</td>\n",
       "      <td>1101</td>\n",
       "      <td>1366</td>\n",
       "      <td>1264</td>\n",
       "      <td>losers</td>\n",
       "      <td>0.340909</td>\n",
       "      <td>0.353414</td>\n",
       "      <td>0.234375</td>\n",
       "      <td>0.409639</td>\n",
       "      <td>0.546185</td>\n",
       "      <td>0.455830</td>\n",
       "      <td>14.0</td>\n",
       "    </tr>\n",
       "  </tbody>\n",
       "</table>\n",
       "</div>"
      ],
      "text/plain": [
       "       Season  Daynum  Team   elo  opp_elo team_type   fg3_pct  fg3_rate  \\\n",
       "71833    2017      22  1101  1406     1238    losers  0.333333  0.326087   \n",
       "72009    2017      25  1101  1359     1798    losers  0.250000  0.297872   \n",
       "72273    2017      30  1101  1355     1555    losers  0.280000  0.331126   \n",
       "72337    2017      33  1101  1339     1276   winners  0.297297  0.371859   \n",
       "72844    2017      47  1101  1366     1264    losers  0.340909  0.353414   \n",
       "\n",
       "       orr_rate  fta_rate  efg_rate  opp_efg_rate  rest  \n",
       "71833  0.125000  0.630435  0.532609      0.391667   5.0  \n",
       "72009  0.177778  0.500000  0.558511      0.443966   3.0  \n",
       "72273  0.230769  0.437086  0.529801      0.426901   5.0  \n",
       "72337  0.226415  0.381910  0.522613      0.438356   3.0  \n",
       "72844  0.234375  0.409639  0.546185      0.455830  14.0  "
      ]
     },
     "execution_count": 804,
     "metadata": {},
     "output_type": "execute_result"
    }
   ],
   "source": [
    "#join over stats \n",
    "data = df[df['Season']==2017]\n",
    "data = data.dropna(how='any')\n",
    "data.head()"
   ]
  },
  {
   "cell_type": "code",
   "execution_count": 805,
   "metadata": {
    "collapsed": false
   },
   "outputs": [],
   "source": [
    "max_date = data.groupby(['Team'],sort=False,axis=0,)['Daynum'].max()"
   ]
  },
  {
   "cell_type": "code",
   "execution_count": 806,
   "metadata": {
    "collapsed": false
   },
   "outputs": [
    {
     "data": {
      "text/html": [
       "<div>\n",
       "<table border=\"1\" class=\"dataframe\">\n",
       "  <thead>\n",
       "    <tr style=\"text-align: right;\">\n",
       "      <th></th>\n",
       "      <th>Daynum</th>\n",
       "    </tr>\n",
       "    <tr>\n",
       "      <th>Team</th>\n",
       "      <th></th>\n",
       "    </tr>\n",
       "  </thead>\n",
       "  <tbody>\n",
       "    <tr>\n",
       "      <th>1101</th>\n",
       "      <td>124</td>\n",
       "    </tr>\n",
       "    <tr>\n",
       "      <th>1102</th>\n",
       "      <td>129</td>\n",
       "    </tr>\n",
       "    <tr>\n",
       "      <th>1103</th>\n",
       "      <td>131</td>\n",
       "    </tr>\n",
       "    <tr>\n",
       "      <th>1104</th>\n",
       "      <td>131</td>\n",
       "    </tr>\n",
       "    <tr>\n",
       "      <th>1105</th>\n",
       "      <td>124</td>\n",
       "    </tr>\n",
       "  </tbody>\n",
       "</table>\n",
       "</div>"
      ],
      "text/plain": [
       "      Daynum\n",
       "Team        \n",
       "1101     124\n",
       "1102     129\n",
       "1103     131\n",
       "1104     131\n",
       "1105     124"
      ]
     },
     "execution_count": 806,
     "metadata": {},
     "output_type": "execute_result"
    }
   ],
   "source": [
    "max_date = pd.DataFrame(max_date,index=None)\n",
    "max_date.head()"
   ]
  },
  {
   "cell_type": "code",
   "execution_count": 807,
   "metadata": {
    "collapsed": false
   },
   "outputs": [],
   "source": [
    "data = pd.merge(data,max_date,how='left',left_on='Team',right_index=True)"
   ]
  },
  {
   "cell_type": "code",
   "execution_count": 808,
   "metadata": {
    "collapsed": false
   },
   "outputs": [],
   "source": [
    "data = data[data['Daynum_x'] == data['Daynum_y']]"
   ]
  },
  {
   "cell_type": "code",
   "execution_count": 809,
   "metadata": {
    "collapsed": false
   },
   "outputs": [],
   "source": [
    "data = data.drop(['opp_elo','team_type','rest','Daynum_y'],axis=1)"
   ]
  },
  {
   "cell_type": "code",
   "execution_count": 810,
   "metadata": {
    "collapsed": false
   },
   "outputs": [
    {
     "data": {
      "text/html": [
       "<div>\n",
       "<table border=\"1\" class=\"dataframe\">\n",
       "  <thead>\n",
       "    <tr style=\"text-align: right;\">\n",
       "      <th></th>\n",
       "      <th>Year</th>\n",
       "      <th>team_x</th>\n",
       "      <th>team_y</th>\n",
       "    </tr>\n",
       "  </thead>\n",
       "  <tbody>\n",
       "    <tr>\n",
       "      <th>0</th>\n",
       "      <td>2017</td>\n",
       "      <td>1112</td>\n",
       "      <td>1116</td>\n",
       "    </tr>\n",
       "    <tr>\n",
       "      <th>1</th>\n",
       "      <td>2017</td>\n",
       "      <td>1112</td>\n",
       "      <td>1124</td>\n",
       "    </tr>\n",
       "    <tr>\n",
       "      <th>2</th>\n",
       "      <td>2017</td>\n",
       "      <td>1112</td>\n",
       "      <td>1137</td>\n",
       "    </tr>\n",
       "    <tr>\n",
       "      <th>3</th>\n",
       "      <td>2017</td>\n",
       "      <td>1112</td>\n",
       "      <td>1139</td>\n",
       "    </tr>\n",
       "    <tr>\n",
       "      <th>4</th>\n",
       "      <td>2017</td>\n",
       "      <td>1112</td>\n",
       "      <td>1153</td>\n",
       "    </tr>\n",
       "  </tbody>\n",
       "</table>\n",
       "</div>"
      ],
      "text/plain": [
       "   Year  team_x  team_y\n",
       "0  2017    1112    1116\n",
       "1  2017    1112    1124\n",
       "2  2017    1112    1137\n",
       "3  2017    1112    1139\n",
       "4  2017    1112    1153"
      ]
     },
     "execution_count": 810,
     "metadata": {},
     "output_type": "execute_result"
    }
   ],
   "source": [
    "sample.head()"
   ]
  },
  {
   "cell_type": "code",
   "execution_count": 812,
   "metadata": {
    "collapsed": false
   },
   "outputs": [
    {
     "data": {
      "text/html": [
       "<div>\n",
       "<table border=\"1\" class=\"dataframe\">\n",
       "  <thead>\n",
       "    <tr style=\"text-align: right;\">\n",
       "      <th></th>\n",
       "      <th>Year</th>\n",
       "      <th>team_x</th>\n",
       "      <th>team_y</th>\n",
       "      <th>Season</th>\n",
       "      <th>Daynum_x</th>\n",
       "      <th>Team</th>\n",
       "      <th>elo</th>\n",
       "      <th>fg3_pct</th>\n",
       "      <th>fg3_rate</th>\n",
       "      <th>orr_rate</th>\n",
       "      <th>fta_rate</th>\n",
       "      <th>efg_rate</th>\n",
       "      <th>opp_efg_rate</th>\n",
       "    </tr>\n",
       "  </thead>\n",
       "  <tbody>\n",
       "    <tr>\n",
       "      <th>0</th>\n",
       "      <td>2017</td>\n",
       "      <td>1112</td>\n",
       "      <td>1116</td>\n",
       "      <td>2017</td>\n",
       "      <td>131</td>\n",
       "      <td>1112</td>\n",
       "      <td>2008</td>\n",
       "      <td>0.398927</td>\n",
       "      <td>0.306637</td>\n",
       "      <td>0.35796</td>\n",
       "      <td>0.40757</td>\n",
       "      <td>0.53401</td>\n",
       "      <td>0.471118</td>\n",
       "    </tr>\n",
       "    <tr>\n",
       "      <th>1</th>\n",
       "      <td>2017</td>\n",
       "      <td>1112</td>\n",
       "      <td>1124</td>\n",
       "      <td>2017</td>\n",
       "      <td>131</td>\n",
       "      <td>1112</td>\n",
       "      <td>2008</td>\n",
       "      <td>0.398927</td>\n",
       "      <td>0.306637</td>\n",
       "      <td>0.35796</td>\n",
       "      <td>0.40757</td>\n",
       "      <td>0.53401</td>\n",
       "      <td>0.471118</td>\n",
       "    </tr>\n",
       "    <tr>\n",
       "      <th>2</th>\n",
       "      <td>2017</td>\n",
       "      <td>1112</td>\n",
       "      <td>1137</td>\n",
       "      <td>2017</td>\n",
       "      <td>131</td>\n",
       "      <td>1112</td>\n",
       "      <td>2008</td>\n",
       "      <td>0.398927</td>\n",
       "      <td>0.306637</td>\n",
       "      <td>0.35796</td>\n",
       "      <td>0.40757</td>\n",
       "      <td>0.53401</td>\n",
       "      <td>0.471118</td>\n",
       "    </tr>\n",
       "    <tr>\n",
       "      <th>3</th>\n",
       "      <td>2017</td>\n",
       "      <td>1112</td>\n",
       "      <td>1139</td>\n",
       "      <td>2017</td>\n",
       "      <td>131</td>\n",
       "      <td>1112</td>\n",
       "      <td>2008</td>\n",
       "      <td>0.398927</td>\n",
       "      <td>0.306637</td>\n",
       "      <td>0.35796</td>\n",
       "      <td>0.40757</td>\n",
       "      <td>0.53401</td>\n",
       "      <td>0.471118</td>\n",
       "    </tr>\n",
       "    <tr>\n",
       "      <th>4</th>\n",
       "      <td>2017</td>\n",
       "      <td>1112</td>\n",
       "      <td>1153</td>\n",
       "      <td>2017</td>\n",
       "      <td>131</td>\n",
       "      <td>1112</td>\n",
       "      <td>2008</td>\n",
       "      <td>0.398927</td>\n",
       "      <td>0.306637</td>\n",
       "      <td>0.35796</td>\n",
       "      <td>0.40757</td>\n",
       "      <td>0.53401</td>\n",
       "      <td>0.471118</td>\n",
       "    </tr>\n",
       "  </tbody>\n",
       "</table>\n",
       "</div>"
      ],
      "text/plain": [
       "   Year  team_x  team_y  Season  Daynum_x  Team   elo   fg3_pct  fg3_rate  \\\n",
       "0  2017    1112    1116    2017       131  1112  2008  0.398927  0.306637   \n",
       "1  2017    1112    1124    2017       131  1112  2008  0.398927  0.306637   \n",
       "2  2017    1112    1137    2017       131  1112  2008  0.398927  0.306637   \n",
       "3  2017    1112    1139    2017       131  1112  2008  0.398927  0.306637   \n",
       "4  2017    1112    1153    2017       131  1112  2008  0.398927  0.306637   \n",
       "\n",
       "   orr_rate  fta_rate  efg_rate  opp_efg_rate  \n",
       "0   0.35796   0.40757   0.53401      0.471118  \n",
       "1   0.35796   0.40757   0.53401      0.471118  \n",
       "2   0.35796   0.40757   0.53401      0.471118  \n",
       "3   0.35796   0.40757   0.53401      0.471118  \n",
       "4   0.35796   0.40757   0.53401      0.471118  "
      ]
     },
     "execution_count": 812,
     "metadata": {},
     "output_type": "execute_result"
    }
   ],
   "source": [
    "#populate team x values\n",
    "df_final = pd.merge(sample,data,how='inner',left_on='team_x',right_on='Team')\n",
    "df_final.head()"
   ]
  },
  {
   "cell_type": "code",
   "execution_count": 813,
   "metadata": {
    "collapsed": false
   },
   "outputs": [],
   "source": [
    "df_final = df_final.drop(['Season','Daynum_x','Team'],axis=1)\n",
    "df_final = df_final.rename(columns={\n",
    "    'elo':'elo_x','fg3_pct':'fg3_pct_x','fg3_rate':'fg3_rate_x','orr_rate':'orr_rate_x',\n",
    "    'fta_rate':'fta_rate_x','efg_rate':'efg_rate_x'\n",
    "})"
   ]
  },
  {
   "cell_type": "code",
   "execution_count": 814,
   "metadata": {
    "collapsed": false
   },
   "outputs": [],
   "source": [
    "#populate team y values\n",
    "df_final = pd.merge(df_final,data,how='inner',left_on='team_y',right_on='Team',suffixes=['','_y'])\n"
   ]
  },
  {
   "cell_type": "code",
   "execution_count": 815,
   "metadata": {
    "collapsed": false
   },
   "outputs": [],
   "source": [
    "df_final = df_final.drop(['Season','Daynum_x','Team'],axis=1)\n",
    "df_final = df_final.rename(columns={\n",
    "    'elo':'elo_y','fg3_pct':'fg3_pct_y','fg3_rate':'fg3_rate_y','orr_rate':'orr_rate_y',\n",
    "    'fta_rate':'fta_rate_y','efg_rate':'efg_rate_y'\n",
    "})"
   ]
  },
  {
   "cell_type": "code",
   "execution_count": 816,
   "metadata": {
    "collapsed": false
   },
   "outputs": [
    {
     "data": {
      "text/html": [
       "<div>\n",
       "<table border=\"1\" class=\"dataframe\">\n",
       "  <thead>\n",
       "    <tr style=\"text-align: right;\">\n",
       "      <th></th>\n",
       "      <th>Year</th>\n",
       "      <th>team_x</th>\n",
       "      <th>team_y</th>\n",
       "      <th>elo_x</th>\n",
       "      <th>fg3_pct_x</th>\n",
       "      <th>fg3_rate_x</th>\n",
       "      <th>orr_rate_x</th>\n",
       "      <th>fta_rate_x</th>\n",
       "      <th>efg_rate_x</th>\n",
       "      <th>opp_efg_rate</th>\n",
       "      <th>elo_y</th>\n",
       "      <th>fg3_pct_y</th>\n",
       "      <th>fg3_rate_y</th>\n",
       "      <th>orr_rate_y</th>\n",
       "      <th>fta_rate_y</th>\n",
       "      <th>efg_rate_y</th>\n",
       "      <th>opp_efg_rate_y</th>\n",
       "    </tr>\n",
       "  </thead>\n",
       "  <tbody>\n",
       "    <tr>\n",
       "      <th>0</th>\n",
       "      <td>2017</td>\n",
       "      <td>1112</td>\n",
       "      <td>1116</td>\n",
       "      <td>2008</td>\n",
       "      <td>0.398927</td>\n",
       "      <td>0.306637</td>\n",
       "      <td>0.357960</td>\n",
       "      <td>0.407570</td>\n",
       "      <td>0.534010</td>\n",
       "      <td>0.471118</td>\n",
       "      <td>1864</td>\n",
       "      <td>0.368243</td>\n",
       "      <td>0.297338</td>\n",
       "      <td>0.352007</td>\n",
       "      <td>0.388749</td>\n",
       "      <td>0.516826</td>\n",
       "      <td>0.480467</td>\n",
       "    </tr>\n",
       "    <tr>\n",
       "      <th>1</th>\n",
       "      <td>2017</td>\n",
       "      <td>1112</td>\n",
       "      <td>1124</td>\n",
       "      <td>2008</td>\n",
       "      <td>0.398927</td>\n",
       "      <td>0.306637</td>\n",
       "      <td>0.357960</td>\n",
       "      <td>0.407570</td>\n",
       "      <td>0.534010</td>\n",
       "      <td>0.471118</td>\n",
       "      <td>1862</td>\n",
       "      <td>0.351687</td>\n",
       "      <td>0.339771</td>\n",
       "      <td>0.426954</td>\n",
       "      <td>0.345806</td>\n",
       "      <td>0.526856</td>\n",
       "      <td>0.448642</td>\n",
       "    </tr>\n",
       "    <tr>\n",
       "      <th>2</th>\n",
       "      <td>2017</td>\n",
       "      <td>1116</td>\n",
       "      <td>1124</td>\n",
       "      <td>1864</td>\n",
       "      <td>0.368243</td>\n",
       "      <td>0.297338</td>\n",
       "      <td>0.352007</td>\n",
       "      <td>0.388749</td>\n",
       "      <td>0.516826</td>\n",
       "      <td>0.480467</td>\n",
       "      <td>1862</td>\n",
       "      <td>0.351687</td>\n",
       "      <td>0.339771</td>\n",
       "      <td>0.426954</td>\n",
       "      <td>0.345806</td>\n",
       "      <td>0.526856</td>\n",
       "      <td>0.448642</td>\n",
       "    </tr>\n",
       "    <tr>\n",
       "      <th>3</th>\n",
       "      <td>2017</td>\n",
       "      <td>1112</td>\n",
       "      <td>1137</td>\n",
       "      <td>2008</td>\n",
       "      <td>0.398927</td>\n",
       "      <td>0.306637</td>\n",
       "      <td>0.357960</td>\n",
       "      <td>0.407570</td>\n",
       "      <td>0.534010</td>\n",
       "      <td>0.471118</td>\n",
       "      <td>1649</td>\n",
       "      <td>0.378873</td>\n",
       "      <td>0.387766</td>\n",
       "      <td>0.298209</td>\n",
       "      <td>0.382305</td>\n",
       "      <td>0.555161</td>\n",
       "      <td>0.479630</td>\n",
       "    </tr>\n",
       "    <tr>\n",
       "      <th>4</th>\n",
       "      <td>2017</td>\n",
       "      <td>1116</td>\n",
       "      <td>1137</td>\n",
       "      <td>1864</td>\n",
       "      <td>0.368243</td>\n",
       "      <td>0.297338</td>\n",
       "      <td>0.352007</td>\n",
       "      <td>0.388749</td>\n",
       "      <td>0.516826</td>\n",
       "      <td>0.480467</td>\n",
       "      <td>1649</td>\n",
       "      <td>0.378873</td>\n",
       "      <td>0.387766</td>\n",
       "      <td>0.298209</td>\n",
       "      <td>0.382305</td>\n",
       "      <td>0.555161</td>\n",
       "      <td>0.479630</td>\n",
       "    </tr>\n",
       "  </tbody>\n",
       "</table>\n",
       "</div>"
      ],
      "text/plain": [
       "   Year  team_x  team_y  elo_x  fg3_pct_x  fg3_rate_x  orr_rate_x  fta_rate_x  \\\n",
       "0  2017    1112    1116   2008   0.398927    0.306637    0.357960    0.407570   \n",
       "1  2017    1112    1124   2008   0.398927    0.306637    0.357960    0.407570   \n",
       "2  2017    1116    1124   1864   0.368243    0.297338    0.352007    0.388749   \n",
       "3  2017    1112    1137   2008   0.398927    0.306637    0.357960    0.407570   \n",
       "4  2017    1116    1137   1864   0.368243    0.297338    0.352007    0.388749   \n",
       "\n",
       "   efg_rate_x  opp_efg_rate  elo_y  fg3_pct_y  fg3_rate_y  orr_rate_y  \\\n",
       "0    0.534010      0.471118   1864   0.368243    0.297338    0.352007   \n",
       "1    0.534010      0.471118   1862   0.351687    0.339771    0.426954   \n",
       "2    0.516826      0.480467   1862   0.351687    0.339771    0.426954   \n",
       "3    0.534010      0.471118   1649   0.378873    0.387766    0.298209   \n",
       "4    0.516826      0.480467   1649   0.378873    0.387766    0.298209   \n",
       "\n",
       "   fta_rate_y  efg_rate_y  opp_efg_rate_y  \n",
       "0    0.388749    0.516826        0.480467  \n",
       "1    0.345806    0.526856        0.448642  \n",
       "2    0.345806    0.526856        0.448642  \n",
       "3    0.382305    0.555161        0.479630  \n",
       "4    0.382305    0.555161        0.479630  "
      ]
     },
     "execution_count": 816,
     "metadata": {},
     "output_type": "execute_result"
    }
   ],
   "source": [
    "df_final.head()"
   ]
  },
  {
   "cell_type": "code",
   "execution_count": 818,
   "metadata": {
    "collapsed": true
   },
   "outputs": [],
   "source": [
    "#split into training and testing data to test on the 2016 NCAA tourney\n",
    "train_final = final_final"
   ]
  },
  {
   "cell_type": "code",
   "execution_count": 845,
   "metadata": {
    "collapsed": false
   },
   "outputs": [],
   "source": [
    "#setup X and Y\n",
    "\n",
    "X_final_train = train_final[['elo_x','fg3_pct_x', 'fg3_rate_x', 'orr_rate_x', 'fta_rate_x', 'efg_rate_x', 'opp_efg_rate_x',\n",
    "       'elo_y','fg3_pct_y', 'fg3_rate_y',\n",
    "       'orr_rate_y', 'fta_rate_y', 'efg_rate_y','opp_efg_rate_y',]]\n",
    "\n",
    "y_final_train = train_final.team_x_wins\n",
    "\n",
    "X_final_test = df_final\n",
    "X_final_test = X_final_test.drop(['Year','team_x','team_y'],axis=1)"
   ]
  },
  {
   "cell_type": "code",
   "execution_count": 846,
   "metadata": {
    "collapsed": false
   },
   "outputs": [
    {
     "data": {
      "text/html": [
       "<div>\n",
       "<table border=\"1\" class=\"dataframe\">\n",
       "  <thead>\n",
       "    <tr style=\"text-align: right;\">\n",
       "      <th></th>\n",
       "      <th>elo_x</th>\n",
       "      <th>fg3_pct_x</th>\n",
       "      <th>fg3_rate_x</th>\n",
       "      <th>orr_rate_x</th>\n",
       "      <th>fta_rate_x</th>\n",
       "      <th>efg_rate_x</th>\n",
       "      <th>opp_efg_rate_x</th>\n",
       "      <th>elo_y</th>\n",
       "      <th>fg3_pct_y</th>\n",
       "      <th>fg3_rate_y</th>\n",
       "      <th>orr_rate_y</th>\n",
       "      <th>fta_rate_y</th>\n",
       "      <th>efg_rate_y</th>\n",
       "      <th>opp_efg_rate_y</th>\n",
       "    </tr>\n",
       "  </thead>\n",
       "  <tbody>\n",
       "    <tr>\n",
       "      <th>7</th>\n",
       "      <td>1493</td>\n",
       "      <td>0.272727</td>\n",
       "      <td>0.239130</td>\n",
       "      <td>0.230769</td>\n",
       "      <td>0.369565</td>\n",
       "      <td>0.467391</td>\n",
       "      <td>0.508772</td>\n",
       "      <td>1461</td>\n",
       "      <td>0.272727</td>\n",
       "      <td>0.448980</td>\n",
       "      <td>0.548387</td>\n",
       "      <td>0.306122</td>\n",
       "      <td>0.428571</td>\n",
       "      <td>0.513158</td>\n",
       "    </tr>\n",
       "    <tr>\n",
       "      <th>14</th>\n",
       "      <td>1375</td>\n",
       "      <td>0.333333</td>\n",
       "      <td>0.375000</td>\n",
       "      <td>0.304348</td>\n",
       "      <td>0.125000</td>\n",
       "      <td>0.343750</td>\n",
       "      <td>0.535714</td>\n",
       "      <td>1472</td>\n",
       "      <td>0.315789</td>\n",
       "      <td>0.339286</td>\n",
       "      <td>0.437500</td>\n",
       "      <td>0.303571</td>\n",
       "      <td>0.482143</td>\n",
       "      <td>0.431818</td>\n",
       "    </tr>\n",
       "    <tr>\n",
       "      <th>15</th>\n",
       "      <td>1422</td>\n",
       "      <td>0.333333</td>\n",
       "      <td>0.346154</td>\n",
       "      <td>0.464286</td>\n",
       "      <td>0.519231</td>\n",
       "      <td>0.519231</td>\n",
       "      <td>0.525862</td>\n",
       "      <td>1467</td>\n",
       "      <td>0.266667</td>\n",
       "      <td>0.365854</td>\n",
       "      <td>0.409091</td>\n",
       "      <td>0.682927</td>\n",
       "      <td>0.512195</td>\n",
       "      <td>0.436364</td>\n",
       "    </tr>\n",
       "    <tr>\n",
       "      <th>16</th>\n",
       "      <td>1522</td>\n",
       "      <td>0.250000</td>\n",
       "      <td>0.145455</td>\n",
       "      <td>0.406250</td>\n",
       "      <td>0.709091</td>\n",
       "      <td>0.436364</td>\n",
       "      <td>0.512195</td>\n",
       "      <td>1565</td>\n",
       "      <td>0.454545</td>\n",
       "      <td>0.189655</td>\n",
       "      <td>0.300000</td>\n",
       "      <td>0.310345</td>\n",
       "      <td>0.525862</td>\n",
       "      <td>0.519231</td>\n",
       "    </tr>\n",
       "    <tr>\n",
       "      <th>17</th>\n",
       "      <td>1678</td>\n",
       "      <td>0.600000</td>\n",
       "      <td>0.362319</td>\n",
       "      <td>0.535714</td>\n",
       "      <td>0.188406</td>\n",
       "      <td>0.702899</td>\n",
       "      <td>0.365385</td>\n",
       "      <td>1533</td>\n",
       "      <td>0.538462</td>\n",
       "      <td>0.254902</td>\n",
       "      <td>0.272727</td>\n",
       "      <td>0.215686</td>\n",
       "      <td>0.637255</td>\n",
       "      <td>0.539683</td>\n",
       "    </tr>\n",
       "  </tbody>\n",
       "</table>\n",
       "</div>"
      ],
      "text/plain": [
       "    elo_x  fg3_pct_x  fg3_rate_x  orr_rate_x  fta_rate_x  efg_rate_x  \\\n",
       "7    1493   0.272727    0.239130    0.230769    0.369565    0.467391   \n",
       "14   1375   0.333333    0.375000    0.304348    0.125000    0.343750   \n",
       "15   1422   0.333333    0.346154    0.464286    0.519231    0.519231   \n",
       "16   1522   0.250000    0.145455    0.406250    0.709091    0.436364   \n",
       "17   1678   0.600000    0.362319    0.535714    0.188406    0.702899   \n",
       "\n",
       "    opp_efg_rate_x  elo_y  fg3_pct_y  fg3_rate_y  orr_rate_y  fta_rate_y  \\\n",
       "7         0.508772   1461   0.272727    0.448980    0.548387    0.306122   \n",
       "14        0.535714   1472   0.315789    0.339286    0.437500    0.303571   \n",
       "15        0.525862   1467   0.266667    0.365854    0.409091    0.682927   \n",
       "16        0.512195   1565   0.454545    0.189655    0.300000    0.310345   \n",
       "17        0.365385   1533   0.538462    0.254902    0.272727    0.215686   \n",
       "\n",
       "    efg_rate_y  opp_efg_rate_y  \n",
       "7     0.428571        0.513158  \n",
       "14    0.482143        0.431818  \n",
       "15    0.512195        0.436364  \n",
       "16    0.525862        0.519231  \n",
       "17    0.637255        0.539683  "
      ]
     },
     "execution_count": 846,
     "metadata": {},
     "output_type": "execute_result"
    }
   ],
   "source": [
    "X_final_train.head()"
   ]
  },
  {
   "cell_type": "code",
   "execution_count": 847,
   "metadata": {
    "collapsed": false
   },
   "outputs": [
    {
     "data": {
      "text/html": [
       "<div>\n",
       "<table border=\"1\" class=\"dataframe\">\n",
       "  <thead>\n",
       "    <tr style=\"text-align: right;\">\n",
       "      <th></th>\n",
       "      <th>elo_x</th>\n",
       "      <th>fg3_pct_x</th>\n",
       "      <th>fg3_rate_x</th>\n",
       "      <th>orr_rate_x</th>\n",
       "      <th>fta_rate_x</th>\n",
       "      <th>efg_rate_x</th>\n",
       "      <th>opp_efg_rate</th>\n",
       "      <th>elo_y</th>\n",
       "      <th>fg3_pct_y</th>\n",
       "      <th>fg3_rate_y</th>\n",
       "      <th>orr_rate_y</th>\n",
       "      <th>fta_rate_y</th>\n",
       "      <th>efg_rate_y</th>\n",
       "      <th>opp_efg_rate_y</th>\n",
       "    </tr>\n",
       "  </thead>\n",
       "  <tbody>\n",
       "    <tr>\n",
       "      <th>0</th>\n",
       "      <td>2008</td>\n",
       "      <td>0.398927</td>\n",
       "      <td>0.306637</td>\n",
       "      <td>0.357960</td>\n",
       "      <td>0.407570</td>\n",
       "      <td>0.534010</td>\n",
       "      <td>0.471118</td>\n",
       "      <td>1864</td>\n",
       "      <td>0.368243</td>\n",
       "      <td>0.297338</td>\n",
       "      <td>0.352007</td>\n",
       "      <td>0.388749</td>\n",
       "      <td>0.516826</td>\n",
       "      <td>0.480467</td>\n",
       "    </tr>\n",
       "    <tr>\n",
       "      <th>1</th>\n",
       "      <td>2008</td>\n",
       "      <td>0.398927</td>\n",
       "      <td>0.306637</td>\n",
       "      <td>0.357960</td>\n",
       "      <td>0.407570</td>\n",
       "      <td>0.534010</td>\n",
       "      <td>0.471118</td>\n",
       "      <td>1862</td>\n",
       "      <td>0.351687</td>\n",
       "      <td>0.339771</td>\n",
       "      <td>0.426954</td>\n",
       "      <td>0.345806</td>\n",
       "      <td>0.526856</td>\n",
       "      <td>0.448642</td>\n",
       "    </tr>\n",
       "    <tr>\n",
       "      <th>2</th>\n",
       "      <td>1864</td>\n",
       "      <td>0.368243</td>\n",
       "      <td>0.297338</td>\n",
       "      <td>0.352007</td>\n",
       "      <td>0.388749</td>\n",
       "      <td>0.516826</td>\n",
       "      <td>0.480467</td>\n",
       "      <td>1862</td>\n",
       "      <td>0.351687</td>\n",
       "      <td>0.339771</td>\n",
       "      <td>0.426954</td>\n",
       "      <td>0.345806</td>\n",
       "      <td>0.526856</td>\n",
       "      <td>0.448642</td>\n",
       "    </tr>\n",
       "    <tr>\n",
       "      <th>3</th>\n",
       "      <td>2008</td>\n",
       "      <td>0.398927</td>\n",
       "      <td>0.306637</td>\n",
       "      <td>0.357960</td>\n",
       "      <td>0.407570</td>\n",
       "      <td>0.534010</td>\n",
       "      <td>0.471118</td>\n",
       "      <td>1649</td>\n",
       "      <td>0.378873</td>\n",
       "      <td>0.387766</td>\n",
       "      <td>0.298209</td>\n",
       "      <td>0.382305</td>\n",
       "      <td>0.555161</td>\n",
       "      <td>0.479630</td>\n",
       "    </tr>\n",
       "    <tr>\n",
       "      <th>4</th>\n",
       "      <td>1864</td>\n",
       "      <td>0.368243</td>\n",
       "      <td>0.297338</td>\n",
       "      <td>0.352007</td>\n",
       "      <td>0.388749</td>\n",
       "      <td>0.516826</td>\n",
       "      <td>0.480467</td>\n",
       "      <td>1649</td>\n",
       "      <td>0.378873</td>\n",
       "      <td>0.387766</td>\n",
       "      <td>0.298209</td>\n",
       "      <td>0.382305</td>\n",
       "      <td>0.555161</td>\n",
       "      <td>0.479630</td>\n",
       "    </tr>\n",
       "  </tbody>\n",
       "</table>\n",
       "</div>"
      ],
      "text/plain": [
       "   elo_x  fg3_pct_x  fg3_rate_x  orr_rate_x  fta_rate_x  efg_rate_x  \\\n",
       "0   2008   0.398927    0.306637    0.357960    0.407570    0.534010   \n",
       "1   2008   0.398927    0.306637    0.357960    0.407570    0.534010   \n",
       "2   1864   0.368243    0.297338    0.352007    0.388749    0.516826   \n",
       "3   2008   0.398927    0.306637    0.357960    0.407570    0.534010   \n",
       "4   1864   0.368243    0.297338    0.352007    0.388749    0.516826   \n",
       "\n",
       "   opp_efg_rate  elo_y  fg3_pct_y  fg3_rate_y  orr_rate_y  fta_rate_y  \\\n",
       "0      0.471118   1864   0.368243    0.297338    0.352007    0.388749   \n",
       "1      0.471118   1862   0.351687    0.339771    0.426954    0.345806   \n",
       "2      0.480467   1862   0.351687    0.339771    0.426954    0.345806   \n",
       "3      0.471118   1649   0.378873    0.387766    0.298209    0.382305   \n",
       "4      0.480467   1649   0.378873    0.387766    0.298209    0.382305   \n",
       "\n",
       "   efg_rate_y  opp_efg_rate_y  \n",
       "0    0.516826        0.480467  \n",
       "1    0.526856        0.448642  \n",
       "2    0.526856        0.448642  \n",
       "3    0.555161        0.479630  \n",
       "4    0.555161        0.479630  "
      ]
     },
     "execution_count": 847,
     "metadata": {},
     "output_type": "execute_result"
    }
   ],
   "source": [
    "X_final_test.head()"
   ]
  },
  {
   "cell_type": "code",
   "execution_count": 850,
   "metadata": {
    "collapsed": true
   },
   "outputs": [],
   "source": [
    "#FIRE THE PHOTON CANNONS AGAIN!!!!\n",
    "#predict the 2017 tournament\n",
    "\n",
    "rf_final = RandomForestClassifier(n_jobs=-1,random_state=123,n_estimators=100,max_features=12,\n",
    "                            min_samples_split=2)\n",
    "cls = rf_final.fit(X_final_train,y_final_train)\n",
    "preds_final = rf_best.predict(X_final_test)\n",
    "proba_x_final = cls.predict_proba(X_final_test)[:,1]"
   ]
  },
  {
   "cell_type": "code",
   "execution_count": 851,
   "metadata": {
    "collapsed": false
   },
   "outputs": [
    {
     "data": {
      "text/plain": [
       "(2278,)"
      ]
     },
     "execution_count": 851,
     "metadata": {},
     "output_type": "execute_result"
    }
   ],
   "source": [
    "proba_x_final.shape"
   ]
  },
  {
   "cell_type": "code",
   "execution_count": 853,
   "metadata": {
    "collapsed": false
   },
   "outputs": [],
   "source": [
    "#output results into readable spreadsheet\n",
    "examine_final = sample[['Year','team_x', 'team_y']]\n",
    "examine_final['pred'] = preds_final\n",
    "examine_final['proba'] = proba_x_final\n",
    "examine_final = pd.merge(examine_final,teams,how='inner',left_on='team_x',right_on='Team_Id')\n",
    "examine_final = examine_final.drop('Team_Id',1)\n",
    "examine_final.rename(columns={'Team_Name':'team_x_name'}, inplace=True)\n",
    "examine_final = pd.merge(examine_final,teams,how='inner',left_on='team_y',right_on='Team_Id')\n",
    "examine_final = examine_final.drop('Team_Id',1)\n",
    "examine_final.rename(columns={'Team_Name':'team_y_name'}, inplace=True)\n",
    "examine_final.head()\n",
    "examine_final.to_csv(\"final_2017_new.csv\")"
   ]
  },
  {
   "cell_type": "code",
   "execution_count": 854,
   "metadata": {
    "collapsed": false
   },
   "outputs": [],
   "source": [
    "examine_final['team_x'] = examine_final['team_x'].astype(str)\n",
    "examine_final['team_y'] = examine_final['team_y'].astype(str)\n",
    "examine_final['Year'] = examine_final['Year'].astype(str)"
   ]
  },
  {
   "cell_type": "code",
   "execution_count": 855,
   "metadata": {
    "collapsed": false
   },
   "outputs": [],
   "source": [
    "examine_final['Id'] = examine_final[['Year','team_x','team_y']].apply(lambda x: '_'.join(x),axis=1)"
   ]
  },
  {
   "cell_type": "code",
   "execution_count": 856,
   "metadata": {
    "collapsed": false
   },
   "outputs": [
    {
     "data": {
      "text/html": [
       "<div>\n",
       "<table border=\"1\" class=\"dataframe\">\n",
       "  <thead>\n",
       "    <tr style=\"text-align: right;\">\n",
       "      <th></th>\n",
       "      <th>Year</th>\n",
       "      <th>team_x</th>\n",
       "      <th>team_y</th>\n",
       "      <th>pred</th>\n",
       "      <th>proba</th>\n",
       "      <th>team_x_name</th>\n",
       "      <th>team_y_name</th>\n",
       "      <th>Id</th>\n",
       "    </tr>\n",
       "  </thead>\n",
       "  <tbody>\n",
       "    <tr>\n",
       "      <th>0</th>\n",
       "      <td>2017</td>\n",
       "      <td>1112</td>\n",
       "      <td>1116</td>\n",
       "      <td>1</td>\n",
       "      <td>0.90</td>\n",
       "      <td>Arizona</td>\n",
       "      <td>Arkansas</td>\n",
       "      <td>2017_1112_1116</td>\n",
       "    </tr>\n",
       "    <tr>\n",
       "      <th>1</th>\n",
       "      <td>2017</td>\n",
       "      <td>1112</td>\n",
       "      <td>1124</td>\n",
       "      <td>1</td>\n",
       "      <td>0.71</td>\n",
       "      <td>Arizona</td>\n",
       "      <td>Baylor</td>\n",
       "      <td>2017_1112_1124</td>\n",
       "    </tr>\n",
       "    <tr>\n",
       "      <th>2</th>\n",
       "      <td>2017</td>\n",
       "      <td>1116</td>\n",
       "      <td>1124</td>\n",
       "      <td>0</td>\n",
       "      <td>0.43</td>\n",
       "      <td>Arkansas</td>\n",
       "      <td>Baylor</td>\n",
       "      <td>2017_1116_1124</td>\n",
       "    </tr>\n",
       "    <tr>\n",
       "      <th>3</th>\n",
       "      <td>2017</td>\n",
       "      <td>1112</td>\n",
       "      <td>1137</td>\n",
       "      <td>0</td>\n",
       "      <td>0.54</td>\n",
       "      <td>Arizona</td>\n",
       "      <td>Bucknell</td>\n",
       "      <td>2017_1112_1137</td>\n",
       "    </tr>\n",
       "    <tr>\n",
       "      <th>4</th>\n",
       "      <td>2017</td>\n",
       "      <td>1116</td>\n",
       "      <td>1137</td>\n",
       "      <td>0</td>\n",
       "      <td>0.47</td>\n",
       "      <td>Arkansas</td>\n",
       "      <td>Bucknell</td>\n",
       "      <td>2017_1116_1137</td>\n",
       "    </tr>\n",
       "  </tbody>\n",
       "</table>\n",
       "</div>"
      ],
      "text/plain": [
       "   Year team_x team_y  pred  proba team_x_name team_y_name              Id\n",
       "0  2017   1112   1116     1   0.90     Arizona    Arkansas  2017_1112_1116\n",
       "1  2017   1112   1124     1   0.71     Arizona      Baylor  2017_1112_1124\n",
       "2  2017   1116   1124     0   0.43    Arkansas      Baylor  2017_1116_1124\n",
       "3  2017   1112   1137     0   0.54     Arizona    Bucknell  2017_1112_1137\n",
       "4  2017   1116   1137     0   0.47    Arkansas    Bucknell  2017_1116_1137"
      ]
     },
     "execution_count": 856,
     "metadata": {},
     "output_type": "execute_result"
    }
   ],
   "source": [
    "examine_final.head()"
   ]
  },
  {
   "cell_type": "code",
   "execution_count": 857,
   "metadata": {
    "collapsed": true
   },
   "outputs": [],
   "source": [
    "submit = examine_final[['proba','Id']]"
   ]
  },
  {
   "cell_type": "code",
   "execution_count": 858,
   "metadata": {
    "collapsed": false
   },
   "outputs": [
    {
     "data": {
      "text/html": [
       "<div>\n",
       "<table border=\"1\" class=\"dataframe\">\n",
       "  <thead>\n",
       "    <tr style=\"text-align: right;\">\n",
       "      <th></th>\n",
       "      <th>Id</th>\n",
       "      <th>Pred</th>\n",
       "    </tr>\n",
       "  </thead>\n",
       "  <tbody>\n",
       "    <tr>\n",
       "      <th>0</th>\n",
       "      <td>2017_1112_1116</td>\n",
       "      <td>0.90</td>\n",
       "    </tr>\n",
       "    <tr>\n",
       "      <th>1</th>\n",
       "      <td>2017_1112_1124</td>\n",
       "      <td>0.71</td>\n",
       "    </tr>\n",
       "    <tr>\n",
       "      <th>2</th>\n",
       "      <td>2017_1116_1124</td>\n",
       "      <td>0.43</td>\n",
       "    </tr>\n",
       "    <tr>\n",
       "      <th>3</th>\n",
       "      <td>2017_1112_1137</td>\n",
       "      <td>0.54</td>\n",
       "    </tr>\n",
       "    <tr>\n",
       "      <th>4</th>\n",
       "      <td>2017_1116_1137</td>\n",
       "      <td>0.47</td>\n",
       "    </tr>\n",
       "  </tbody>\n",
       "</table>\n",
       "</div>"
      ],
      "text/plain": [
       "               Id  Pred\n",
       "0  2017_1112_1116  0.90\n",
       "1  2017_1112_1124  0.71\n",
       "2  2017_1116_1124  0.43\n",
       "3  2017_1112_1137  0.54\n",
       "4  2017_1116_1137  0.47"
      ]
     },
     "execution_count": 858,
     "metadata": {},
     "output_type": "execute_result"
    }
   ],
   "source": [
    "cols = ['Id','proba']\n",
    "submit = submit[cols]\n",
    "submit = submit.rename(columns={'proba':'Pred'})\n",
    "submit.head()"
   ]
  },
  {
   "cell_type": "code",
   "execution_count": 859,
   "metadata": {
    "collapsed": true
   },
   "outputs": [],
   "source": [
    "submit.to_csv(\"kaggle_submission_new.csv\")"
   ]
  },
  {
   "cell_type": "code",
   "execution_count": null,
   "metadata": {
    "collapsed": true
   },
   "outputs": [],
   "source": []
  }
 ],
 "metadata": {
  "kernelspec": {
   "display_name": "Python 3",
   "language": "python",
   "name": "python3"
  },
  "language_info": {
   "codemirror_mode": {
    "name": "ipython",
    "version": 3
   },
   "file_extension": ".py",
   "mimetype": "text/x-python",
   "name": "python",
   "nbconvert_exporter": "python",
   "pygments_lexer": "ipython3",
   "version": "3.6.0"
  }
 },
 "nbformat": 4,
 "nbformat_minor": 2
}
