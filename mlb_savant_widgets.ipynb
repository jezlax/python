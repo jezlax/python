{
 "cells": [
  {
   "cell_type": "code",
   "execution_count": 127,
   "id": "periodic-cargo",
   "metadata": {},
   "outputs": [],
   "source": [
    "from plotly import graph_objects as go\n",
    "from plotly.subplots import make_subplots\n",
    "import plotly.express as px\n",
    "import numpy as np"
   ]
  },
  {
   "cell_type": "code",
   "execution_count": 227,
   "id": "surgical-manner",
   "metadata": {},
   "outputs": [
    {
     "data": {
      "application/vnd.plotly.v1+json": {
       "config": {
        "plotlyServerURL": "https://plot.ly"
       },
       "data": [
        {
         "line": {
          "color": "black",
          "width": 1
         },
         "marker": {
          "color": "rgb(178,24,43)",
          "size": 25
         },
         "mode": "markers+text",
         "text": "90",
         "textfont": {
          "color": "white"
         },
         "textposition": "middle center",
         "type": "scatter",
         "x": [
          90
         ],
         "xaxis": "x",
         "y": [
          0
         ],
         "yaxis": "y"
        },
        {
         "line": {
          "color": "black",
          "width": 1
         },
         "marker": {
          "color": "rgb(178,24,43)",
          "size": 25
         },
         "mode": "markers+text",
         "text": "93",
         "textfont": {
          "color": "white"
         },
         "textposition": "middle center",
         "type": "scatter",
         "x": [
          93
         ],
         "xaxis": "x2",
         "y": [
          0
         ],
         "yaxis": "y2"
        },
        {
         "line": {
          "color": "black",
          "width": 1
         },
         "marker": {
          "color": "rgb(103,0,31)",
          "size": 25
         },
         "mode": "markers+text",
         "text": "100",
         "textfont": {
          "color": "white"
         },
         "textposition": "middle center",
         "type": "scatter",
         "x": [
          100
         ],
         "xaxis": "x3",
         "y": [
          0
         ],
         "yaxis": "y3"
        },
        {
         "line": {
          "color": "black",
          "width": 1
         },
         "marker": {
          "color": "rgb(178,24,43)",
          "size": 25
         },
         "mode": "markers+text",
         "text": "99",
         "textfont": {
          "color": "white"
         },
         "textposition": "middle center",
         "type": "scatter",
         "x": [
          99
         ],
         "xaxis": "x4",
         "y": [
          0
         ],
         "yaxis": "y4"
        },
        {
         "line": {
          "color": "black",
          "width": 1
         },
         "marker": {
          "color": "rgb(103,0,31)",
          "size": 25
         },
         "mode": "markers+text",
         "text": "100",
         "textfont": {
          "color": "white"
         },
         "textposition": "middle center",
         "type": "scatter",
         "x": [
          100
         ],
         "xaxis": "x5",
         "y": [
          0
         ],
         "yaxis": "y5"
        },
        {
         "line": {
          "color": "black",
          "width": 1
         },
         "marker": {
          "color": "rgb(178,24,43)",
          "size": 25
         },
         "mode": "markers+text",
         "text": "99",
         "textfont": {
          "color": "white"
         },
         "textposition": "middle center",
         "type": "scatter",
         "x": [
          99
         ],
         "xaxis": "x6",
         "y": [
          0
         ],
         "yaxis": "y6"
        },
        {
         "line": {
          "color": "black",
          "width": 1
         },
         "marker": {
          "color": "rgb(178,24,43)",
          "size": 25
         },
         "mode": "markers+text",
         "text": "91",
         "textfont": {
          "color": "white"
         },
         "textposition": "middle center",
         "type": "scatter",
         "x": [
          91
         ],
         "xaxis": "x7",
         "y": [
          0
         ],
         "yaxis": "y7"
        },
        {
         "line": {
          "color": "black",
          "width": 1
         },
         "marker": {
          "color": "rgb(103,0,31)",
          "size": 25
         },
         "mode": "markers+text",
         "text": "100",
         "textfont": {
          "color": "white"
         },
         "textposition": "middle center",
         "type": "scatter",
         "x": [
          100
         ],
         "xaxis": "x8",
         "y": [
          0
         ],
         "yaxis": "y8"
        },
        {
         "line": {
          "color": "black",
          "width": 1
         },
         "marker": {
          "color": "rgb(244,165,130)",
          "size": 25
         },
         "mode": "markers+text",
         "text": "75",
         "textfont": {
          "color": "white"
         },
         "textposition": "middle center",
         "type": "scatter",
         "x": [
          75
         ],
         "xaxis": "x9",
         "y": [
          0
         ],
         "yaxis": "y9"
        },
        {
         "line": {
          "color": "black",
          "width": 1
         },
         "marker": {
          "color": "rgb(146,197,222)",
          "size": 25
         },
         "mode": "markers+text",
         "text": "32",
         "textfont": {
          "color": "white"
         },
         "textposition": "middle center",
         "type": "scatter",
         "x": [
          32
         ],
         "xaxis": "x10",
         "y": [
          0
         ],
         "yaxis": "y10"
        },
        {
         "line": {
          "color": "black",
          "width": 1
         },
         "marker": {
          "color": "rgb(33,102,172)",
          "size": 25
         },
         "mode": "markers+text",
         "text": "11",
         "textfont": {
          "color": "white"
         },
         "textposition": "middle center",
         "type": "scatter",
         "x": [
          11
         ],
         "xaxis": "x11",
         "y": [
          0
         ],
         "yaxis": "y11"
        },
        {
         "line": {
          "color": "black",
          "width": 1
         },
         "marker": {
          "color": "rgb(244,165,130)",
          "size": 25
         },
         "mode": "markers+text",
         "text": "70",
         "textfont": {
          "color": "white"
         },
         "textposition": "middle center",
         "type": "scatter",
         "x": [
          70
         ],
         "xaxis": "x12",
         "y": [
          0
         ],
         "yaxis": "y12"
        }
       ],
       "layout": {
        "annotations": [
         {
          "showarrow": false,
          "text": "Exit Velocity",
          "x": 20,
          "xref": "x",
          "y": 0.05,
          "yref": "y"
         },
         {
          "showarrow": false,
          "text": "Hard Hit Rate",
          "x": 20,
          "xref": "x2",
          "y": 0.05,
          "yref": "y2"
         },
         {
          "showarrow": false,
          "text": "xwOBA",
          "x": 20,
          "xref": "x3",
          "y": 0.05,
          "yref": "y3"
         },
         {
          "showarrow": false,
          "text": "xBA",
          "x": 20,
          "xref": "x4",
          "y": 0.05,
          "yref": "y4"
         },
         {
          "showarrow": false,
          "text": "xSLG",
          "x": 20,
          "xref": "x5",
          "y": 0.05,
          "yref": "y5"
         },
         {
          "showarrow": false,
          "text": "Barrel %",
          "x": 20,
          "xref": "x6",
          "y": 0.05,
          "yref": "y6"
         },
         {
          "showarrow": false,
          "text": "K %",
          "x": 20,
          "xref": "x7",
          "y": 0.05,
          "yref": "y7"
         },
         {
          "showarrow": false,
          "text": "BB %",
          "x": 20,
          "xref": "x8",
          "y": 0.05,
          "yref": "y8"
         },
         {
          "showarrow": false,
          "text": "Whiff %",
          "x": 20,
          "xref": "x9",
          "y": 0.05,
          "yref": "y9"
         },
         {
          "showarrow": false,
          "text": "Sprint Speed",
          "x": 20,
          "xref": "x10",
          "y": 0.05,
          "yref": "y10"
         },
         {
          "showarrow": false,
          "text": "Outs above Avg",
          "x": 20,
          "xref": "x11",
          "y": 0.05,
          "yref": "y11"
         },
         {
          "showarrow": false,
          "text": "Outfielder Jump",
          "x": 20,
          "xref": "x12",
          "y": 0.05,
          "yref": "y12"
         }
        ],
        "height": 600,
        "margin": {
         "b": 20,
         "l": 50,
         "r": 20,
         "t": 50
        },
        "paper_bgcolor": "rgba(0,0,0,0)",
        "plot_bgcolor": "rgba(0,0,0,0)",
        "shapes": [
         {
          "layer": "below",
          "type": "line",
          "x0": 0,
          "x1": 100,
          "xref": "x",
          "y0": 0,
          "y1": 0,
          "yref": "y"
         },
         {
          "layer": "below",
          "type": "line",
          "x0": 0,
          "x1": 100,
          "xref": "x2",
          "y0": 0,
          "y1": 0,
          "yref": "y2"
         },
         {
          "layer": "below",
          "type": "line",
          "x0": 0,
          "x1": 100,
          "xref": "x3",
          "y0": 0,
          "y1": 0,
          "yref": "y3"
         },
         {
          "layer": "below",
          "type": "line",
          "x0": 0,
          "x1": 100,
          "xref": "x4",
          "y0": 0,
          "y1": 0,
          "yref": "y4"
         },
         {
          "layer": "below",
          "type": "line",
          "x0": 0,
          "x1": 100,
          "xref": "x5",
          "y0": 0,
          "y1": 0,
          "yref": "y5"
         },
         {
          "layer": "below",
          "type": "line",
          "x0": 0,
          "x1": 100,
          "xref": "x6",
          "y0": 0,
          "y1": 0,
          "yref": "y6"
         },
         {
          "layer": "below",
          "type": "line",
          "x0": 0,
          "x1": 100,
          "xref": "x7",
          "y0": 0,
          "y1": 0,
          "yref": "y7"
         },
         {
          "layer": "below",
          "type": "line",
          "x0": 0,
          "x1": 100,
          "xref": "x8",
          "y0": 0,
          "y1": 0,
          "yref": "y8"
         },
         {
          "layer": "below",
          "type": "line",
          "x0": 0,
          "x1": 100,
          "xref": "x9",
          "y0": 0,
          "y1": 0,
          "yref": "y9"
         },
         {
          "layer": "below",
          "type": "line",
          "x0": 0,
          "x1": 100,
          "xref": "x10",
          "y0": 0,
          "y1": 0,
          "yref": "y10"
         },
         {
          "layer": "below",
          "type": "line",
          "x0": 0,
          "x1": 100,
          "xref": "x11",
          "y0": 0,
          "y1": 0,
          "yref": "y11"
         },
         {
          "layer": "below",
          "type": "line",
          "x0": 0,
          "x1": 100,
          "xref": "x12",
          "y0": 0,
          "y1": 0,
          "yref": "y12"
         }
        ],
        "showlegend": false,
        "template": {
         "data": {
          "bar": [
           {
            "error_x": {
             "color": "#2a3f5f"
            },
            "error_y": {
             "color": "#2a3f5f"
            },
            "marker": {
             "line": {
              "color": "#E5ECF6",
              "width": 0.5
             }
            },
            "type": "bar"
           }
          ],
          "barpolar": [
           {
            "marker": {
             "line": {
              "color": "#E5ECF6",
              "width": 0.5
             }
            },
            "type": "barpolar"
           }
          ],
          "carpet": [
           {
            "aaxis": {
             "endlinecolor": "#2a3f5f",
             "gridcolor": "white",
             "linecolor": "white",
             "minorgridcolor": "white",
             "startlinecolor": "#2a3f5f"
            },
            "baxis": {
             "endlinecolor": "#2a3f5f",
             "gridcolor": "white",
             "linecolor": "white",
             "minorgridcolor": "white",
             "startlinecolor": "#2a3f5f"
            },
            "type": "carpet"
           }
          ],
          "choropleth": [
           {
            "colorbar": {
             "outlinewidth": 0,
             "ticks": ""
            },
            "type": "choropleth"
           }
          ],
          "contour": [
           {
            "colorbar": {
             "outlinewidth": 0,
             "ticks": ""
            },
            "colorscale": [
             [
              0,
              "#0d0887"
             ],
             [
              0.1111111111111111,
              "#46039f"
             ],
             [
              0.2222222222222222,
              "#7201a8"
             ],
             [
              0.3333333333333333,
              "#9c179e"
             ],
             [
              0.4444444444444444,
              "#bd3786"
             ],
             [
              0.5555555555555556,
              "#d8576b"
             ],
             [
              0.6666666666666666,
              "#ed7953"
             ],
             [
              0.7777777777777778,
              "#fb9f3a"
             ],
             [
              0.8888888888888888,
              "#fdca26"
             ],
             [
              1,
              "#f0f921"
             ]
            ],
            "type": "contour"
           }
          ],
          "contourcarpet": [
           {
            "colorbar": {
             "outlinewidth": 0,
             "ticks": ""
            },
            "type": "contourcarpet"
           }
          ],
          "heatmap": [
           {
            "colorbar": {
             "outlinewidth": 0,
             "ticks": ""
            },
            "colorscale": [
             [
              0,
              "#0d0887"
             ],
             [
              0.1111111111111111,
              "#46039f"
             ],
             [
              0.2222222222222222,
              "#7201a8"
             ],
             [
              0.3333333333333333,
              "#9c179e"
             ],
             [
              0.4444444444444444,
              "#bd3786"
             ],
             [
              0.5555555555555556,
              "#d8576b"
             ],
             [
              0.6666666666666666,
              "#ed7953"
             ],
             [
              0.7777777777777778,
              "#fb9f3a"
             ],
             [
              0.8888888888888888,
              "#fdca26"
             ],
             [
              1,
              "#f0f921"
             ]
            ],
            "type": "heatmap"
           }
          ],
          "heatmapgl": [
           {
            "colorbar": {
             "outlinewidth": 0,
             "ticks": ""
            },
            "colorscale": [
             [
              0,
              "#0d0887"
             ],
             [
              0.1111111111111111,
              "#46039f"
             ],
             [
              0.2222222222222222,
              "#7201a8"
             ],
             [
              0.3333333333333333,
              "#9c179e"
             ],
             [
              0.4444444444444444,
              "#bd3786"
             ],
             [
              0.5555555555555556,
              "#d8576b"
             ],
             [
              0.6666666666666666,
              "#ed7953"
             ],
             [
              0.7777777777777778,
              "#fb9f3a"
             ],
             [
              0.8888888888888888,
              "#fdca26"
             ],
             [
              1,
              "#f0f921"
             ]
            ],
            "type": "heatmapgl"
           }
          ],
          "histogram": [
           {
            "marker": {
             "colorbar": {
              "outlinewidth": 0,
              "ticks": ""
             }
            },
            "type": "histogram"
           }
          ],
          "histogram2d": [
           {
            "colorbar": {
             "outlinewidth": 0,
             "ticks": ""
            },
            "colorscale": [
             [
              0,
              "#0d0887"
             ],
             [
              0.1111111111111111,
              "#46039f"
             ],
             [
              0.2222222222222222,
              "#7201a8"
             ],
             [
              0.3333333333333333,
              "#9c179e"
             ],
             [
              0.4444444444444444,
              "#bd3786"
             ],
             [
              0.5555555555555556,
              "#d8576b"
             ],
             [
              0.6666666666666666,
              "#ed7953"
             ],
             [
              0.7777777777777778,
              "#fb9f3a"
             ],
             [
              0.8888888888888888,
              "#fdca26"
             ],
             [
              1,
              "#f0f921"
             ]
            ],
            "type": "histogram2d"
           }
          ],
          "histogram2dcontour": [
           {
            "colorbar": {
             "outlinewidth": 0,
             "ticks": ""
            },
            "colorscale": [
             [
              0,
              "#0d0887"
             ],
             [
              0.1111111111111111,
              "#46039f"
             ],
             [
              0.2222222222222222,
              "#7201a8"
             ],
             [
              0.3333333333333333,
              "#9c179e"
             ],
             [
              0.4444444444444444,
              "#bd3786"
             ],
             [
              0.5555555555555556,
              "#d8576b"
             ],
             [
              0.6666666666666666,
              "#ed7953"
             ],
             [
              0.7777777777777778,
              "#fb9f3a"
             ],
             [
              0.8888888888888888,
              "#fdca26"
             ],
             [
              1,
              "#f0f921"
             ]
            ],
            "type": "histogram2dcontour"
           }
          ],
          "mesh3d": [
           {
            "colorbar": {
             "outlinewidth": 0,
             "ticks": ""
            },
            "type": "mesh3d"
           }
          ],
          "parcoords": [
           {
            "line": {
             "colorbar": {
              "outlinewidth": 0,
              "ticks": ""
             }
            },
            "type": "parcoords"
           }
          ],
          "pie": [
           {
            "automargin": true,
            "type": "pie"
           }
          ],
          "scatter": [
           {
            "marker": {
             "colorbar": {
              "outlinewidth": 0,
              "ticks": ""
             }
            },
            "type": "scatter"
           }
          ],
          "scatter3d": [
           {
            "line": {
             "colorbar": {
              "outlinewidth": 0,
              "ticks": ""
             }
            },
            "marker": {
             "colorbar": {
              "outlinewidth": 0,
              "ticks": ""
             }
            },
            "type": "scatter3d"
           }
          ],
          "scattercarpet": [
           {
            "marker": {
             "colorbar": {
              "outlinewidth": 0,
              "ticks": ""
             }
            },
            "type": "scattercarpet"
           }
          ],
          "scattergeo": [
           {
            "marker": {
             "colorbar": {
              "outlinewidth": 0,
              "ticks": ""
             }
            },
            "type": "scattergeo"
           }
          ],
          "scattergl": [
           {
            "marker": {
             "colorbar": {
              "outlinewidth": 0,
              "ticks": ""
             }
            },
            "type": "scattergl"
           }
          ],
          "scattermapbox": [
           {
            "marker": {
             "colorbar": {
              "outlinewidth": 0,
              "ticks": ""
             }
            },
            "type": "scattermapbox"
           }
          ],
          "scatterpolar": [
           {
            "marker": {
             "colorbar": {
              "outlinewidth": 0,
              "ticks": ""
             }
            },
            "type": "scatterpolar"
           }
          ],
          "scatterpolargl": [
           {
            "marker": {
             "colorbar": {
              "outlinewidth": 0,
              "ticks": ""
             }
            },
            "type": "scatterpolargl"
           }
          ],
          "scatterternary": [
           {
            "marker": {
             "colorbar": {
              "outlinewidth": 0,
              "ticks": ""
             }
            },
            "type": "scatterternary"
           }
          ],
          "surface": [
           {
            "colorbar": {
             "outlinewidth": 0,
             "ticks": ""
            },
            "colorscale": [
             [
              0,
              "#0d0887"
             ],
             [
              0.1111111111111111,
              "#46039f"
             ],
             [
              0.2222222222222222,
              "#7201a8"
             ],
             [
              0.3333333333333333,
              "#9c179e"
             ],
             [
              0.4444444444444444,
              "#bd3786"
             ],
             [
              0.5555555555555556,
              "#d8576b"
             ],
             [
              0.6666666666666666,
              "#ed7953"
             ],
             [
              0.7777777777777778,
              "#fb9f3a"
             ],
             [
              0.8888888888888888,
              "#fdca26"
             ],
             [
              1,
              "#f0f921"
             ]
            ],
            "type": "surface"
           }
          ],
          "table": [
           {
            "cells": {
             "fill": {
              "color": "#EBF0F8"
             },
             "line": {
              "color": "white"
             }
            },
            "header": {
             "fill": {
              "color": "#C8D4E3"
             },
             "line": {
              "color": "white"
             }
            },
            "type": "table"
           }
          ]
         },
         "layout": {
          "annotationdefaults": {
           "arrowcolor": "#2a3f5f",
           "arrowhead": 0,
           "arrowwidth": 1
          },
          "autotypenumbers": "strict",
          "coloraxis": {
           "colorbar": {
            "outlinewidth": 0,
            "ticks": ""
           }
          },
          "colorscale": {
           "diverging": [
            [
             0,
             "#8e0152"
            ],
            [
             0.1,
             "#c51b7d"
            ],
            [
             0.2,
             "#de77ae"
            ],
            [
             0.3,
             "#f1b6da"
            ],
            [
             0.4,
             "#fde0ef"
            ],
            [
             0.5,
             "#f7f7f7"
            ],
            [
             0.6,
             "#e6f5d0"
            ],
            [
             0.7,
             "#b8e186"
            ],
            [
             0.8,
             "#7fbc41"
            ],
            [
             0.9,
             "#4d9221"
            ],
            [
             1,
             "#276419"
            ]
           ],
           "sequential": [
            [
             0,
             "#0d0887"
            ],
            [
             0.1111111111111111,
             "#46039f"
            ],
            [
             0.2222222222222222,
             "#7201a8"
            ],
            [
             0.3333333333333333,
             "#9c179e"
            ],
            [
             0.4444444444444444,
             "#bd3786"
            ],
            [
             0.5555555555555556,
             "#d8576b"
            ],
            [
             0.6666666666666666,
             "#ed7953"
            ],
            [
             0.7777777777777778,
             "#fb9f3a"
            ],
            [
             0.8888888888888888,
             "#fdca26"
            ],
            [
             1,
             "#f0f921"
            ]
           ],
           "sequentialminus": [
            [
             0,
             "#0d0887"
            ],
            [
             0.1111111111111111,
             "#46039f"
            ],
            [
             0.2222222222222222,
             "#7201a8"
            ],
            [
             0.3333333333333333,
             "#9c179e"
            ],
            [
             0.4444444444444444,
             "#bd3786"
            ],
            [
             0.5555555555555556,
             "#d8576b"
            ],
            [
             0.6666666666666666,
             "#ed7953"
            ],
            [
             0.7777777777777778,
             "#fb9f3a"
            ],
            [
             0.8888888888888888,
             "#fdca26"
            ],
            [
             1,
             "#f0f921"
            ]
           ]
          },
          "colorway": [
           "#636efa",
           "#EF553B",
           "#00cc96",
           "#ab63fa",
           "#FFA15A",
           "#19d3f3",
           "#FF6692",
           "#B6E880",
           "#FF97FF",
           "#FECB52"
          ],
          "font": {
           "color": "#2a3f5f"
          },
          "geo": {
           "bgcolor": "white",
           "lakecolor": "white",
           "landcolor": "#E5ECF6",
           "showlakes": true,
           "showland": true,
           "subunitcolor": "white"
          },
          "hoverlabel": {
           "align": "left"
          },
          "hovermode": "closest",
          "mapbox": {
           "style": "light"
          },
          "paper_bgcolor": "white",
          "plot_bgcolor": "#E5ECF6",
          "polar": {
           "angularaxis": {
            "gridcolor": "white",
            "linecolor": "white",
            "ticks": ""
           },
           "bgcolor": "#E5ECF6",
           "radialaxis": {
            "gridcolor": "white",
            "linecolor": "white",
            "ticks": ""
           }
          },
          "scene": {
           "xaxis": {
            "backgroundcolor": "#E5ECF6",
            "gridcolor": "white",
            "gridwidth": 2,
            "linecolor": "white",
            "showbackground": true,
            "ticks": "",
            "zerolinecolor": "white"
           },
           "yaxis": {
            "backgroundcolor": "#E5ECF6",
            "gridcolor": "white",
            "gridwidth": 2,
            "linecolor": "white",
            "showbackground": true,
            "ticks": "",
            "zerolinecolor": "white"
           },
           "zaxis": {
            "backgroundcolor": "#E5ECF6",
            "gridcolor": "white",
            "gridwidth": 2,
            "linecolor": "white",
            "showbackground": true,
            "ticks": "",
            "zerolinecolor": "white"
           }
          },
          "shapedefaults": {
           "line": {
            "color": "#2a3f5f"
           }
          },
          "ternary": {
           "aaxis": {
            "gridcolor": "white",
            "linecolor": "white",
            "ticks": ""
           },
           "baxis": {
            "gridcolor": "white",
            "linecolor": "white",
            "ticks": ""
           },
           "bgcolor": "#E5ECF6",
           "caxis": {
            "gridcolor": "white",
            "linecolor": "white",
            "ticks": ""
           }
          },
          "title": {
           "x": 0.05
          },
          "xaxis": {
           "automargin": true,
           "gridcolor": "white",
           "linecolor": "white",
           "ticks": "",
           "title": {
            "standoff": 15
           },
           "zerolinecolor": "white",
           "zerolinewidth": 2
          },
          "yaxis": {
           "automargin": true,
           "gridcolor": "white",
           "linecolor": "white",
           "ticks": "",
           "title": {
            "standoff": 15
           },
           "zerolinecolor": "white",
           "zerolinewidth": 2
          }
         }
        },
        "title": {
         "text": "MLB Savant w/ Python"
        },
        "width": 800,
        "xaxis": {
         "anchor": "y",
         "domain": [
          0,
          0.2888888888888889
         ],
         "range": [
          0,
          110
         ],
         "showgrid": false,
         "showticklabels": false,
         "zeroline": false
        },
        "xaxis10": {
         "anchor": "y10",
         "domain": [
          0,
          0.2888888888888889
         ],
         "range": [
          0,
          110
         ],
         "showgrid": false,
         "showticklabels": false,
         "zeroline": false
        },
        "xaxis11": {
         "anchor": "y11",
         "domain": [
          0.35555555555555557,
          0.6444444444444445
         ],
         "range": [
          0,
          110
         ],
         "showgrid": false,
         "showticklabels": false,
         "zeroline": false
        },
        "xaxis12": {
         "anchor": "y12",
         "domain": [
          0.7111111111111111,
          1
         ],
         "range": [
          0,
          110
         ],
         "showgrid": false,
         "showticklabels": false,
         "zeroline": false
        },
        "xaxis2": {
         "anchor": "y2",
         "domain": [
          0.35555555555555557,
          0.6444444444444445
         ],
         "range": [
          0,
          110
         ],
         "showgrid": false,
         "showticklabels": false,
         "zeroline": false
        },
        "xaxis3": {
         "anchor": "y3",
         "domain": [
          0.7111111111111111,
          1
         ],
         "range": [
          0,
          110
         ],
         "showgrid": false,
         "showticklabels": false,
         "zeroline": false
        },
        "xaxis4": {
         "anchor": "y4",
         "domain": [
          0,
          0.2888888888888889
         ],
         "range": [
          0,
          110
         ],
         "showgrid": false,
         "showticklabels": false,
         "zeroline": false
        },
        "xaxis5": {
         "anchor": "y5",
         "domain": [
          0.35555555555555557,
          0.6444444444444445
         ],
         "range": [
          0,
          110
         ],
         "showgrid": false,
         "showticklabels": false,
         "zeroline": false
        },
        "xaxis6": {
         "anchor": "y6",
         "domain": [
          0.7111111111111111,
          1
         ],
         "range": [
          0,
          110
         ],
         "showgrid": false,
         "showticklabels": false,
         "zeroline": false
        },
        "xaxis7": {
         "anchor": "y7",
         "domain": [
          0,
          0.2888888888888889
         ],
         "range": [
          0,
          110
         ],
         "showgrid": false,
         "showticklabels": false,
         "zeroline": false
        },
        "xaxis8": {
         "anchor": "y8",
         "domain": [
          0.35555555555555557,
          0.6444444444444445
         ],
         "range": [
          0,
          110
         ],
         "showgrid": false,
         "showticklabels": false,
         "zeroline": false
        },
        "xaxis9": {
         "anchor": "y9",
         "domain": [
          0.7111111111111111,
          1
         ],
         "range": [
          0,
          110
         ],
         "showgrid": false,
         "showticklabels": false,
         "zeroline": false
        },
        "yaxis": {
         "anchor": "x",
         "domain": [
          0.80625,
          1
         ],
         "range": [
          -0.05,
          0.05
         ],
         "showgrid": false,
         "showticklabels": false,
         "zeroline": false
        },
        "yaxis10": {
         "anchor": "x10",
         "domain": [
          0,
          0.19375
         ],
         "range": [
          -0.05,
          0.05
         ],
         "showgrid": false,
         "showticklabels": false,
         "zeroline": false
        },
        "yaxis11": {
         "anchor": "x11",
         "domain": [
          0,
          0.19375
         ],
         "range": [
          -0.05,
          0.05
         ],
         "showgrid": false,
         "showticklabels": false,
         "zeroline": false
        },
        "yaxis12": {
         "anchor": "x12",
         "domain": [
          0,
          0.19375
         ],
         "range": [
          -0.05,
          0.05
         ],
         "showgrid": false,
         "showticklabels": false,
         "zeroline": false
        },
        "yaxis2": {
         "anchor": "x2",
         "domain": [
          0.80625,
          1
         ],
         "range": [
          -0.05,
          0.05
         ],
         "showgrid": false,
         "showticklabels": false,
         "zeroline": false
        },
        "yaxis3": {
         "anchor": "x3",
         "domain": [
          0.80625,
          1
         ],
         "range": [
          -0.05,
          0.05
         ],
         "showgrid": false,
         "showticklabels": false,
         "zeroline": false
        },
        "yaxis4": {
         "anchor": "x4",
         "domain": [
          0.5375,
          0.73125
         ],
         "range": [
          -0.05,
          0.05
         ],
         "showgrid": false,
         "showticklabels": false,
         "zeroline": false
        },
        "yaxis5": {
         "anchor": "x5",
         "domain": [
          0.5375,
          0.73125
         ],
         "range": [
          -0.05,
          0.05
         ],
         "showgrid": false,
         "showticklabels": false,
         "zeroline": false
        },
        "yaxis6": {
         "anchor": "x6",
         "domain": [
          0.5375,
          0.73125
         ],
         "range": [
          -0.05,
          0.05
         ],
         "showgrid": false,
         "showticklabels": false,
         "zeroline": false
        },
        "yaxis7": {
         "anchor": "x7",
         "domain": [
          0.26875,
          0.4625
         ],
         "range": [
          -0.05,
          0.05
         ],
         "showgrid": false,
         "showticklabels": false,
         "zeroline": false
        },
        "yaxis8": {
         "anchor": "x8",
         "domain": [
          0.26875,
          0.4625
         ],
         "range": [
          -0.05,
          0.05
         ],
         "showgrid": false,
         "showticklabels": false,
         "zeroline": false
        },
        "yaxis9": {
         "anchor": "x9",
         "domain": [
          0.26875,
          0.4625
         ],
         "range": [
          -0.05,
          0.05
         ],
         "showgrid": false,
         "showticklabels": false,
         "zeroline": false
        }
       }
      },
      "text/html": [
       "<div>                            <div id=\"c0868d85-e1a0-49ad-8549-e7b28cefa1d8\" class=\"plotly-graph-div\" style=\"height:600px; width:800px;\"></div>            <script type=\"text/javascript\">                require([\"plotly\"], function(Plotly) {                    window.PLOTLYENV=window.PLOTLYENV || {};                                    if (document.getElementById(\"c0868d85-e1a0-49ad-8549-e7b28cefa1d8\")) {                    Plotly.newPlot(                        \"c0868d85-e1a0-49ad-8549-e7b28cefa1d8\",                        [{\"line\": {\"color\": \"black\", \"width\": 1}, \"marker\": {\"color\": \"rgb(178,24,43)\", \"size\": 25}, \"mode\": \"markers+text\", \"text\": \"90\", \"textfont\": {\"color\": \"white\"}, \"textposition\": \"middle center\", \"type\": \"scatter\", \"x\": [90], \"xaxis\": \"x\", \"y\": [0], \"yaxis\": \"y\"}, {\"line\": {\"color\": \"black\", \"width\": 1}, \"marker\": {\"color\": \"rgb(178,24,43)\", \"size\": 25}, \"mode\": \"markers+text\", \"text\": \"93\", \"textfont\": {\"color\": \"white\"}, \"textposition\": \"middle center\", \"type\": \"scatter\", \"x\": [93], \"xaxis\": \"x2\", \"y\": [0], \"yaxis\": \"y2\"}, {\"line\": {\"color\": \"black\", \"width\": 1}, \"marker\": {\"color\": \"rgb(103,0,31)\", \"size\": 25}, \"mode\": \"markers+text\", \"text\": \"100\", \"textfont\": {\"color\": \"white\"}, \"textposition\": \"middle center\", \"type\": \"scatter\", \"x\": [100], \"xaxis\": \"x3\", \"y\": [0], \"yaxis\": \"y3\"}, {\"line\": {\"color\": \"black\", \"width\": 1}, \"marker\": {\"color\": \"rgb(178,24,43)\", \"size\": 25}, \"mode\": \"markers+text\", \"text\": \"99\", \"textfont\": {\"color\": \"white\"}, \"textposition\": \"middle center\", \"type\": \"scatter\", \"x\": [99], \"xaxis\": \"x4\", \"y\": [0], \"yaxis\": \"y4\"}, {\"line\": {\"color\": \"black\", \"width\": 1}, \"marker\": {\"color\": \"rgb(103,0,31)\", \"size\": 25}, \"mode\": \"markers+text\", \"text\": \"100\", \"textfont\": {\"color\": \"white\"}, \"textposition\": \"middle center\", \"type\": \"scatter\", \"x\": [100], \"xaxis\": \"x5\", \"y\": [0], \"yaxis\": \"y5\"}, {\"line\": {\"color\": \"black\", \"width\": 1}, \"marker\": {\"color\": \"rgb(178,24,43)\", \"size\": 25}, \"mode\": \"markers+text\", \"text\": \"99\", \"textfont\": {\"color\": \"white\"}, \"textposition\": \"middle center\", \"type\": \"scatter\", \"x\": [99], \"xaxis\": \"x6\", \"y\": [0], \"yaxis\": \"y6\"}, {\"line\": {\"color\": \"black\", \"width\": 1}, \"marker\": {\"color\": \"rgb(178,24,43)\", \"size\": 25}, \"mode\": \"markers+text\", \"text\": \"91\", \"textfont\": {\"color\": \"white\"}, \"textposition\": \"middle center\", \"type\": \"scatter\", \"x\": [91], \"xaxis\": \"x7\", \"y\": [0], \"yaxis\": \"y7\"}, {\"line\": {\"color\": \"black\", \"width\": 1}, \"marker\": {\"color\": \"rgb(103,0,31)\", \"size\": 25}, \"mode\": \"markers+text\", \"text\": \"100\", \"textfont\": {\"color\": \"white\"}, \"textposition\": \"middle center\", \"type\": \"scatter\", \"x\": [100], \"xaxis\": \"x8\", \"y\": [0], \"yaxis\": \"y8\"}, {\"line\": {\"color\": \"black\", \"width\": 1}, \"marker\": {\"color\": \"rgb(244,165,130)\", \"size\": 25}, \"mode\": \"markers+text\", \"text\": \"75\", \"textfont\": {\"color\": \"white\"}, \"textposition\": \"middle center\", \"type\": \"scatter\", \"x\": [75], \"xaxis\": \"x9\", \"y\": [0], \"yaxis\": \"y9\"}, {\"line\": {\"color\": \"black\", \"width\": 1}, \"marker\": {\"color\": \"rgb(146,197,222)\", \"size\": 25}, \"mode\": \"markers+text\", \"text\": \"32\", \"textfont\": {\"color\": \"white\"}, \"textposition\": \"middle center\", \"type\": \"scatter\", \"x\": [32], \"xaxis\": \"x10\", \"y\": [0], \"yaxis\": \"y10\"}, {\"line\": {\"color\": \"black\", \"width\": 1}, \"marker\": {\"color\": \"rgb(33,102,172)\", \"size\": 25}, \"mode\": \"markers+text\", \"text\": \"11\", \"textfont\": {\"color\": \"white\"}, \"textposition\": \"middle center\", \"type\": \"scatter\", \"x\": [11], \"xaxis\": \"x11\", \"y\": [0], \"yaxis\": \"y11\"}, {\"line\": {\"color\": \"black\", \"width\": 1}, \"marker\": {\"color\": \"rgb(244,165,130)\", \"size\": 25}, \"mode\": \"markers+text\", \"text\": \"70\", \"textfont\": {\"color\": \"white\"}, \"textposition\": \"middle center\", \"type\": \"scatter\", \"x\": [70], \"xaxis\": \"x12\", \"y\": [0], \"yaxis\": \"y12\"}],                        {\"annotations\": [{\"showarrow\": false, \"text\": \"Exit Velocity\", \"x\": 20, \"xref\": \"x\", \"y\": 0.05, \"yref\": \"y\"}, {\"showarrow\": false, \"text\": \"Hard Hit Rate\", \"x\": 20, \"xref\": \"x2\", \"y\": 0.05, \"yref\": \"y2\"}, {\"showarrow\": false, \"text\": \"xwOBA\", \"x\": 20, \"xref\": \"x3\", \"y\": 0.05, \"yref\": \"y3\"}, {\"showarrow\": false, \"text\": \"xBA\", \"x\": 20, \"xref\": \"x4\", \"y\": 0.05, \"yref\": \"y4\"}, {\"showarrow\": false, \"text\": \"xSLG\", \"x\": 20, \"xref\": \"x5\", \"y\": 0.05, \"yref\": \"y5\"}, {\"showarrow\": false, \"text\": \"Barrel %\", \"x\": 20, \"xref\": \"x6\", \"y\": 0.05, \"yref\": \"y6\"}, {\"showarrow\": false, \"text\": \"K %\", \"x\": 20, \"xref\": \"x7\", \"y\": 0.05, \"yref\": \"y7\"}, {\"showarrow\": false, \"text\": \"BB %\", \"x\": 20, \"xref\": \"x8\", \"y\": 0.05, \"yref\": \"y8\"}, {\"showarrow\": false, \"text\": \"Whiff %\", \"x\": 20, \"xref\": \"x9\", \"y\": 0.05, \"yref\": \"y9\"}, {\"showarrow\": false, \"text\": \"Sprint Speed\", \"x\": 20, \"xref\": \"x10\", \"y\": 0.05, \"yref\": \"y10\"}, {\"showarrow\": false, \"text\": \"Outs above Avg\", \"x\": 20, \"xref\": \"x11\", \"y\": 0.05, \"yref\": \"y11\"}, {\"showarrow\": false, \"text\": \"Outfielder Jump\", \"x\": 20, \"xref\": \"x12\", \"y\": 0.05, \"yref\": \"y12\"}], \"height\": 600, \"margin\": {\"b\": 20, \"l\": 50, \"r\": 20, \"t\": 50}, \"paper_bgcolor\": \"rgba(0,0,0,0)\", \"plot_bgcolor\": \"rgba(0,0,0,0)\", \"shapes\": [{\"layer\": \"below\", \"type\": \"line\", \"x0\": 0, \"x1\": 100, \"xref\": \"x\", \"y0\": 0, \"y1\": 0, \"yref\": \"y\"}, {\"layer\": \"below\", \"type\": \"line\", \"x0\": 0, \"x1\": 100, \"xref\": \"x2\", \"y0\": 0, \"y1\": 0, \"yref\": \"y2\"}, {\"layer\": \"below\", \"type\": \"line\", \"x0\": 0, \"x1\": 100, \"xref\": \"x3\", \"y0\": 0, \"y1\": 0, \"yref\": \"y3\"}, {\"layer\": \"below\", \"type\": \"line\", \"x0\": 0, \"x1\": 100, \"xref\": \"x4\", \"y0\": 0, \"y1\": 0, \"yref\": \"y4\"}, {\"layer\": \"below\", \"type\": \"line\", \"x0\": 0, \"x1\": 100, \"xref\": \"x5\", \"y0\": 0, \"y1\": 0, \"yref\": \"y5\"}, {\"layer\": \"below\", \"type\": \"line\", \"x0\": 0, \"x1\": 100, \"xref\": \"x6\", \"y0\": 0, \"y1\": 0, \"yref\": \"y6\"}, {\"layer\": \"below\", \"type\": \"line\", \"x0\": 0, \"x1\": 100, \"xref\": \"x7\", \"y0\": 0, \"y1\": 0, \"yref\": \"y7\"}, {\"layer\": \"below\", \"type\": \"line\", \"x0\": 0, \"x1\": 100, \"xref\": \"x8\", \"y0\": 0, \"y1\": 0, \"yref\": \"y8\"}, {\"layer\": \"below\", \"type\": \"line\", \"x0\": 0, \"x1\": 100, \"xref\": \"x9\", \"y0\": 0, \"y1\": 0, \"yref\": \"y9\"}, {\"layer\": \"below\", \"type\": \"line\", \"x0\": 0, \"x1\": 100, \"xref\": \"x10\", \"y0\": 0, \"y1\": 0, \"yref\": \"y10\"}, {\"layer\": \"below\", \"type\": \"line\", \"x0\": 0, \"x1\": 100, \"xref\": \"x11\", \"y0\": 0, \"y1\": 0, \"yref\": \"y11\"}, {\"layer\": \"below\", \"type\": \"line\", \"x0\": 0, \"x1\": 100, \"xref\": \"x12\", \"y0\": 0, \"y1\": 0, \"yref\": \"y12\"}], \"showlegend\": false, \"template\": {\"data\": {\"bar\": [{\"error_x\": {\"color\": \"#2a3f5f\"}, \"error_y\": {\"color\": \"#2a3f5f\"}, \"marker\": {\"line\": {\"color\": \"#E5ECF6\", \"width\": 0.5}}, \"type\": \"bar\"}], \"barpolar\": [{\"marker\": {\"line\": {\"color\": \"#E5ECF6\", \"width\": 0.5}}, \"type\": \"barpolar\"}], \"carpet\": [{\"aaxis\": {\"endlinecolor\": \"#2a3f5f\", \"gridcolor\": \"white\", \"linecolor\": \"white\", \"minorgridcolor\": \"white\", \"startlinecolor\": \"#2a3f5f\"}, \"baxis\": {\"endlinecolor\": \"#2a3f5f\", \"gridcolor\": \"white\", \"linecolor\": \"white\", \"minorgridcolor\": \"white\", \"startlinecolor\": \"#2a3f5f\"}, \"type\": \"carpet\"}], \"choropleth\": [{\"colorbar\": {\"outlinewidth\": 0, \"ticks\": \"\"}, \"type\": \"choropleth\"}], \"contour\": [{\"colorbar\": {\"outlinewidth\": 0, \"ticks\": \"\"}, \"colorscale\": [[0.0, \"#0d0887\"], [0.1111111111111111, \"#46039f\"], [0.2222222222222222, \"#7201a8\"], [0.3333333333333333, \"#9c179e\"], [0.4444444444444444, \"#bd3786\"], [0.5555555555555556, \"#d8576b\"], [0.6666666666666666, \"#ed7953\"], [0.7777777777777778, \"#fb9f3a\"], [0.8888888888888888, \"#fdca26\"], [1.0, \"#f0f921\"]], \"type\": \"contour\"}], \"contourcarpet\": [{\"colorbar\": {\"outlinewidth\": 0, \"ticks\": \"\"}, \"type\": \"contourcarpet\"}], \"heatmap\": [{\"colorbar\": {\"outlinewidth\": 0, \"ticks\": \"\"}, \"colorscale\": [[0.0, \"#0d0887\"], [0.1111111111111111, \"#46039f\"], [0.2222222222222222, \"#7201a8\"], [0.3333333333333333, \"#9c179e\"], [0.4444444444444444, \"#bd3786\"], [0.5555555555555556, \"#d8576b\"], [0.6666666666666666, \"#ed7953\"], [0.7777777777777778, \"#fb9f3a\"], [0.8888888888888888, \"#fdca26\"], [1.0, \"#f0f921\"]], \"type\": \"heatmap\"}], \"heatmapgl\": [{\"colorbar\": {\"outlinewidth\": 0, \"ticks\": \"\"}, \"colorscale\": [[0.0, \"#0d0887\"], [0.1111111111111111, \"#46039f\"], [0.2222222222222222, \"#7201a8\"], [0.3333333333333333, \"#9c179e\"], [0.4444444444444444, \"#bd3786\"], [0.5555555555555556, \"#d8576b\"], [0.6666666666666666, \"#ed7953\"], [0.7777777777777778, \"#fb9f3a\"], [0.8888888888888888, \"#fdca26\"], [1.0, \"#f0f921\"]], \"type\": \"heatmapgl\"}], \"histogram\": [{\"marker\": {\"colorbar\": {\"outlinewidth\": 0, \"ticks\": \"\"}}, \"type\": \"histogram\"}], \"histogram2d\": [{\"colorbar\": {\"outlinewidth\": 0, \"ticks\": \"\"}, \"colorscale\": [[0.0, \"#0d0887\"], [0.1111111111111111, \"#46039f\"], [0.2222222222222222, \"#7201a8\"], [0.3333333333333333, \"#9c179e\"], [0.4444444444444444, \"#bd3786\"], [0.5555555555555556, \"#d8576b\"], [0.6666666666666666, \"#ed7953\"], [0.7777777777777778, \"#fb9f3a\"], [0.8888888888888888, \"#fdca26\"], [1.0, \"#f0f921\"]], \"type\": \"histogram2d\"}], \"histogram2dcontour\": [{\"colorbar\": {\"outlinewidth\": 0, \"ticks\": \"\"}, \"colorscale\": [[0.0, \"#0d0887\"], [0.1111111111111111, \"#46039f\"], [0.2222222222222222, \"#7201a8\"], [0.3333333333333333, \"#9c179e\"], [0.4444444444444444, \"#bd3786\"], [0.5555555555555556, \"#d8576b\"], [0.6666666666666666, \"#ed7953\"], [0.7777777777777778, \"#fb9f3a\"], [0.8888888888888888, \"#fdca26\"], [1.0, \"#f0f921\"]], \"type\": \"histogram2dcontour\"}], \"mesh3d\": [{\"colorbar\": {\"outlinewidth\": 0, \"ticks\": \"\"}, \"type\": \"mesh3d\"}], \"parcoords\": [{\"line\": {\"colorbar\": {\"outlinewidth\": 0, \"ticks\": \"\"}}, \"type\": \"parcoords\"}], \"pie\": [{\"automargin\": true, \"type\": \"pie\"}], \"scatter\": [{\"marker\": {\"colorbar\": {\"outlinewidth\": 0, \"ticks\": \"\"}}, \"type\": \"scatter\"}], \"scatter3d\": [{\"line\": {\"colorbar\": {\"outlinewidth\": 0, \"ticks\": \"\"}}, \"marker\": {\"colorbar\": {\"outlinewidth\": 0, \"ticks\": \"\"}}, \"type\": \"scatter3d\"}], \"scattercarpet\": [{\"marker\": {\"colorbar\": {\"outlinewidth\": 0, \"ticks\": \"\"}}, \"type\": \"scattercarpet\"}], \"scattergeo\": [{\"marker\": {\"colorbar\": {\"outlinewidth\": 0, \"ticks\": \"\"}}, \"type\": \"scattergeo\"}], \"scattergl\": [{\"marker\": {\"colorbar\": {\"outlinewidth\": 0, \"ticks\": \"\"}}, \"type\": \"scattergl\"}], \"scattermapbox\": [{\"marker\": {\"colorbar\": {\"outlinewidth\": 0, \"ticks\": \"\"}}, \"type\": \"scattermapbox\"}], \"scatterpolar\": [{\"marker\": {\"colorbar\": {\"outlinewidth\": 0, \"ticks\": \"\"}}, \"type\": \"scatterpolar\"}], \"scatterpolargl\": [{\"marker\": {\"colorbar\": {\"outlinewidth\": 0, \"ticks\": \"\"}}, \"type\": \"scatterpolargl\"}], \"scatterternary\": [{\"marker\": {\"colorbar\": {\"outlinewidth\": 0, \"ticks\": \"\"}}, \"type\": \"scatterternary\"}], \"surface\": [{\"colorbar\": {\"outlinewidth\": 0, \"ticks\": \"\"}, \"colorscale\": [[0.0, \"#0d0887\"], [0.1111111111111111, \"#46039f\"], [0.2222222222222222, \"#7201a8\"], [0.3333333333333333, \"#9c179e\"], [0.4444444444444444, \"#bd3786\"], [0.5555555555555556, \"#d8576b\"], [0.6666666666666666, \"#ed7953\"], [0.7777777777777778, \"#fb9f3a\"], [0.8888888888888888, \"#fdca26\"], [1.0, \"#f0f921\"]], \"type\": \"surface\"}], \"table\": [{\"cells\": {\"fill\": {\"color\": \"#EBF0F8\"}, \"line\": {\"color\": \"white\"}}, \"header\": {\"fill\": {\"color\": \"#C8D4E3\"}, \"line\": {\"color\": \"white\"}}, \"type\": \"table\"}]}, \"layout\": {\"annotationdefaults\": {\"arrowcolor\": \"#2a3f5f\", \"arrowhead\": 0, \"arrowwidth\": 1}, \"autotypenumbers\": \"strict\", \"coloraxis\": {\"colorbar\": {\"outlinewidth\": 0, \"ticks\": \"\"}}, \"colorscale\": {\"diverging\": [[0, \"#8e0152\"], [0.1, \"#c51b7d\"], [0.2, \"#de77ae\"], [0.3, \"#f1b6da\"], [0.4, \"#fde0ef\"], [0.5, \"#f7f7f7\"], [0.6, \"#e6f5d0\"], [0.7, \"#b8e186\"], [0.8, \"#7fbc41\"], [0.9, \"#4d9221\"], [1, \"#276419\"]], \"sequential\": [[0.0, \"#0d0887\"], [0.1111111111111111, \"#46039f\"], [0.2222222222222222, \"#7201a8\"], [0.3333333333333333, \"#9c179e\"], [0.4444444444444444, \"#bd3786\"], [0.5555555555555556, \"#d8576b\"], [0.6666666666666666, \"#ed7953\"], [0.7777777777777778, \"#fb9f3a\"], [0.8888888888888888, \"#fdca26\"], [1.0, \"#f0f921\"]], \"sequentialminus\": [[0.0, \"#0d0887\"], [0.1111111111111111, \"#46039f\"], [0.2222222222222222, \"#7201a8\"], [0.3333333333333333, \"#9c179e\"], [0.4444444444444444, \"#bd3786\"], [0.5555555555555556, \"#d8576b\"], [0.6666666666666666, \"#ed7953\"], [0.7777777777777778, \"#fb9f3a\"], [0.8888888888888888, \"#fdca26\"], [1.0, \"#f0f921\"]]}, \"colorway\": [\"#636efa\", \"#EF553B\", \"#00cc96\", \"#ab63fa\", \"#FFA15A\", \"#19d3f3\", \"#FF6692\", \"#B6E880\", \"#FF97FF\", \"#FECB52\"], \"font\": {\"color\": \"#2a3f5f\"}, \"geo\": {\"bgcolor\": \"white\", \"lakecolor\": \"white\", \"landcolor\": \"#E5ECF6\", \"showlakes\": true, \"showland\": true, \"subunitcolor\": \"white\"}, \"hoverlabel\": {\"align\": \"left\"}, \"hovermode\": \"closest\", \"mapbox\": {\"style\": \"light\"}, \"paper_bgcolor\": \"white\", \"plot_bgcolor\": \"#E5ECF6\", \"polar\": {\"angularaxis\": {\"gridcolor\": \"white\", \"linecolor\": \"white\", \"ticks\": \"\"}, \"bgcolor\": \"#E5ECF6\", \"radialaxis\": {\"gridcolor\": \"white\", \"linecolor\": \"white\", \"ticks\": \"\"}}, \"scene\": {\"xaxis\": {\"backgroundcolor\": \"#E5ECF6\", \"gridcolor\": \"white\", \"gridwidth\": 2, \"linecolor\": \"white\", \"showbackground\": true, \"ticks\": \"\", \"zerolinecolor\": \"white\"}, \"yaxis\": {\"backgroundcolor\": \"#E5ECF6\", \"gridcolor\": \"white\", \"gridwidth\": 2, \"linecolor\": \"white\", \"showbackground\": true, \"ticks\": \"\", \"zerolinecolor\": \"white\"}, \"zaxis\": {\"backgroundcolor\": \"#E5ECF6\", \"gridcolor\": \"white\", \"gridwidth\": 2, \"linecolor\": \"white\", \"showbackground\": true, \"ticks\": \"\", \"zerolinecolor\": \"white\"}}, \"shapedefaults\": {\"line\": {\"color\": \"#2a3f5f\"}}, \"ternary\": {\"aaxis\": {\"gridcolor\": \"white\", \"linecolor\": \"white\", \"ticks\": \"\"}, \"baxis\": {\"gridcolor\": \"white\", \"linecolor\": \"white\", \"ticks\": \"\"}, \"bgcolor\": \"#E5ECF6\", \"caxis\": {\"gridcolor\": \"white\", \"linecolor\": \"white\", \"ticks\": \"\"}}, \"title\": {\"x\": 0.05}, \"xaxis\": {\"automargin\": true, \"gridcolor\": \"white\", \"linecolor\": \"white\", \"ticks\": \"\", \"title\": {\"standoff\": 15}, \"zerolinecolor\": \"white\", \"zerolinewidth\": 2}, \"yaxis\": {\"automargin\": true, \"gridcolor\": \"white\", \"linecolor\": \"white\", \"ticks\": \"\", \"title\": {\"standoff\": 15}, \"zerolinecolor\": \"white\", \"zerolinewidth\": 2}}}, \"title\": {\"text\": \"MLB Savant w/ Python\"}, \"width\": 800, \"xaxis\": {\"anchor\": \"y\", \"domain\": [0.0, 0.2888888888888889], \"range\": [0, 110], \"showgrid\": false, \"showticklabels\": false, \"zeroline\": false}, \"xaxis10\": {\"anchor\": \"y10\", \"domain\": [0.0, 0.2888888888888889], \"range\": [0, 110], \"showgrid\": false, \"showticklabels\": false, \"zeroline\": false}, \"xaxis11\": {\"anchor\": \"y11\", \"domain\": [0.35555555555555557, 0.6444444444444445], \"range\": [0, 110], \"showgrid\": false, \"showticklabels\": false, \"zeroline\": false}, \"xaxis12\": {\"anchor\": \"y12\", \"domain\": [0.7111111111111111, 1.0], \"range\": [0, 110], \"showgrid\": false, \"showticklabels\": false, \"zeroline\": false}, \"xaxis2\": {\"anchor\": \"y2\", \"domain\": [0.35555555555555557, 0.6444444444444445], \"range\": [0, 110], \"showgrid\": false, \"showticklabels\": false, \"zeroline\": false}, \"xaxis3\": {\"anchor\": \"y3\", \"domain\": [0.7111111111111111, 1.0], \"range\": [0, 110], \"showgrid\": false, \"showticklabels\": false, \"zeroline\": false}, \"xaxis4\": {\"anchor\": \"y4\", \"domain\": [0.0, 0.2888888888888889], \"range\": [0, 110], \"showgrid\": false, \"showticklabels\": false, \"zeroline\": false}, \"xaxis5\": {\"anchor\": \"y5\", \"domain\": [0.35555555555555557, 0.6444444444444445], \"range\": [0, 110], \"showgrid\": false, \"showticklabels\": false, \"zeroline\": false}, \"xaxis6\": {\"anchor\": \"y6\", \"domain\": [0.7111111111111111, 1.0], \"range\": [0, 110], \"showgrid\": false, \"showticklabels\": false, \"zeroline\": false}, \"xaxis7\": {\"anchor\": \"y7\", \"domain\": [0.0, 0.2888888888888889], \"range\": [0, 110], \"showgrid\": false, \"showticklabels\": false, \"zeroline\": false}, \"xaxis8\": {\"anchor\": \"y8\", \"domain\": [0.35555555555555557, 0.6444444444444445], \"range\": [0, 110], \"showgrid\": false, \"showticklabels\": false, \"zeroline\": false}, \"xaxis9\": {\"anchor\": \"y9\", \"domain\": [0.7111111111111111, 1.0], \"range\": [0, 110], \"showgrid\": false, \"showticklabels\": false, \"zeroline\": false}, \"yaxis\": {\"anchor\": \"x\", \"domain\": [0.80625, 1.0], \"range\": [-0.05, 0.05], \"showgrid\": false, \"showticklabels\": false, \"zeroline\": false}, \"yaxis10\": {\"anchor\": \"x10\", \"domain\": [0.0, 0.19375], \"range\": [-0.05, 0.05], \"showgrid\": false, \"showticklabels\": false, \"zeroline\": false}, \"yaxis11\": {\"anchor\": \"x11\", \"domain\": [0.0, 0.19375], \"range\": [-0.05, 0.05], \"showgrid\": false, \"showticklabels\": false, \"zeroline\": false}, \"yaxis12\": {\"anchor\": \"x12\", \"domain\": [0.0, 0.19375], \"range\": [-0.05, 0.05], \"showgrid\": false, \"showticklabels\": false, \"zeroline\": false}, \"yaxis2\": {\"anchor\": \"x2\", \"domain\": [0.80625, 1.0], \"range\": [-0.05, 0.05], \"showgrid\": false, \"showticklabels\": false, \"zeroline\": false}, \"yaxis3\": {\"anchor\": \"x3\", \"domain\": [0.80625, 1.0], \"range\": [-0.05, 0.05], \"showgrid\": false, \"showticklabels\": false, \"zeroline\": false}, \"yaxis4\": {\"anchor\": \"x4\", \"domain\": [0.5375, 0.73125], \"range\": [-0.05, 0.05], \"showgrid\": false, \"showticklabels\": false, \"zeroline\": false}, \"yaxis5\": {\"anchor\": \"x5\", \"domain\": [0.5375, 0.73125], \"range\": [-0.05, 0.05], \"showgrid\": false, \"showticklabels\": false, \"zeroline\": false}, \"yaxis6\": {\"anchor\": \"x6\", \"domain\": [0.5375, 0.73125], \"range\": [-0.05, 0.05], \"showgrid\": false, \"showticklabels\": false, \"zeroline\": false}, \"yaxis7\": {\"anchor\": \"x7\", \"domain\": [0.26875, 0.4625], \"range\": [-0.05, 0.05], \"showgrid\": false, \"showticklabels\": false, \"zeroline\": false}, \"yaxis8\": {\"anchor\": \"x8\", \"domain\": [0.26875, 0.4625], \"range\": [-0.05, 0.05], \"showgrid\": false, \"showticklabels\": false, \"zeroline\": false}, \"yaxis9\": {\"anchor\": \"x9\", \"domain\": [0.26875, 0.4625], \"range\": [-0.05, 0.05], \"showgrid\": false, \"showticklabels\": false, \"zeroline\": false}},                        {\"responsive\": true}                    ).then(function(){\n",
       "                            \n",
       "var gd = document.getElementById('c0868d85-e1a0-49ad-8549-e7b28cefa1d8');\n",
       "var x = new MutationObserver(function (mutations, observer) {{\n",
       "        var display = window.getComputedStyle(gd).display;\n",
       "        if (!display || display === 'none') {{\n",
       "            console.log([gd, 'removed!']);\n",
       "            Plotly.purge(gd);\n",
       "            observer.disconnect();\n",
       "        }}\n",
       "}});\n",
       "\n",
       "// Listen for the removal of the full notebook cells\n",
       "var notebookContainer = gd.closest('#notebook-container');\n",
       "if (notebookContainer) {{\n",
       "    x.observe(notebookContainer, {childList: true});\n",
       "}}\n",
       "\n",
       "// Listen for the clearing of the current output cell\n",
       "var outputEl = gd.closest('.output');\n",
       "if (outputEl) {{\n",
       "    x.observe(outputEl, {childList: true});\n",
       "}}\n",
       "\n",
       "                        })                };                });            </script>        </div>"
      ]
     },
     "metadata": {},
     "output_type": "display_data"
    }
   ],
   "source": [
    "labels = ['Exit Velocity','Hard Hit Rate','xwOBA','xBA','xSLG','Barrel %','K %','BB %','Whiff %','Sprint Speed',\n",
    "          'Outs above Avg','Outfielder Jump']\n",
    "values = [90,93,100,99,100,99,91,100,75,32,11,70]\n",
    "\n",
    "fig = make_subplots(rows=4, cols=3)\n",
    "r=1\n",
    "c=1\n",
    "for l,v in zip(labels,values):\n",
    "    fig.add_trace(\n",
    "        go.Scatter(\n",
    "        x=[v],y=[0],\n",
    "        mode=\"markers+text\",\n",
    "        text=v,\n",
    "        textposition=\"middle center\",\n",
    "        textfont=dict(color=\"white\"),\n",
    "        marker=dict(color=px.colors.diverging.RdBu[10-int(v/10)],size=25),\n",
    "        line=dict(color='black',width=1)\n",
    "        )\n",
    "    ,row=r,col=c)\n",
    "    if c == 3:\n",
    "        r+=1\n",
    "        c=1\n",
    "    else:\n",
    "        c+=1\n",
    "        \n",
    "#ADD ALL THE OTHER STUFF IN A LOOP\n",
    "shapes = []\n",
    "annotations = []\n",
    "for i in range(12):\n",
    "    ix = i+1\n",
    "    shapes.append({'type': 'line', 'x0': 0, 'y0': 0, 'x1': 100, 'y1': 0, 'xref': 'x{}'.format(ix), 'yref': 'y{}'.format(ix), 'layer':'below'})\n",
    "    annotations.append({'text':'{}'.format(labels[i]),'x':20,'y':0.05, 'xref': 'x{}'.format(ix), 'yref': 'y{}'.format(ix),'showarrow':False})\n",
    "\n",
    "fig['layout'].update(shapes=shapes,annotations=annotations)\n",
    "\n",
    "fig.update_layout(height=600, width=800, title_text=\"MLB Savant w/ Python\",paper_bgcolor='rgba(0,0,0,0)',\n",
    "                  plot_bgcolor='rgba(0,0,0,0)',showlegend=False,margin=dict(l=50, r=20, t=50, b=20))\n",
    "fig.update_yaxes(range=[-0.05,0.05],showticklabels=False,showgrid=False,zeroline=False)\n",
    "fig.update_xaxes(showticklabels=False,showgrid=False,zeroline=False,range=[0,110])\n",
    "fig.show()"
   ]
  },
  {
   "cell_type": "code",
   "execution_count": null,
   "id": "military-uncertainty",
   "metadata": {},
   "outputs": [],
   "source": []
  }
 ],
 "metadata": {
  "kernelspec": {
   "display_name": "Python 3",
   "language": "python",
   "name": "python3"
  },
  "language_info": {
   "codemirror_mode": {
    "name": "ipython",
    "version": 3
   },
   "file_extension": ".py",
   "mimetype": "text/x-python",
   "name": "python",
   "nbconvert_exporter": "python",
   "pygments_lexer": "ipython3",
   "version": "3.8.5"
  }
 },
 "nbformat": 4,
 "nbformat_minor": 5
}
